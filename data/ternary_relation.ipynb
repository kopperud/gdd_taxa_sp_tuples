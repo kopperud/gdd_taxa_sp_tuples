{
 "cells": [
  {
   "cell_type": "code",
   "execution_count": 1,
   "metadata": {},
   "outputs": [
    {
     "name": "stdout",
     "output_type": "stream",
     "text": [
      "DiMartino_Taylor_miocene_bryozoa_2015.json  dummy.json  Untitled.ipynb\r\n"
     ]
    }
   ],
   "source": [
    "%ls"
   ]
  },
  {
   "cell_type": "code",
   "execution_count": 2,
   "metadata": {},
   "outputs": [],
   "source": [
    "import json, itertools\n",
    "\n",
    "from IPython.core.display import display, HTML"
   ]
  },
  {
   "cell_type": "code",
   "execution_count": 169,
   "metadata": {},
   "outputs": [],
   "source": [
    "class smart_dict(dict):\n",
    "    def __missing__(self, key):\n",
    "        return(0.0)\n",
    "    \n",
    "    \n",
    "classes = smart_dict(\n",
    "    {\n",
    "    \"INTERVALNAME\": 1, \n",
    "    \"TAXA\": 1, \n",
    "    \"LOCATION\": 0.5, \n",
    "    \"COUNTRY\": 0.5\n",
    "    }\n",
    ")\n",
    "\n",
    "def criteria(em_classes):\n",
    "    res = [classes[x] for x in em_classes]\n",
    "    if sum(res) > 2.0:\n",
    "        return(True)\n",
    "    else:\n",
    "        return(False)\n",
    "    \n",
    "\n",
    "def sentences_view(doc_sentences, K):\n",
    "    n = len(doc_sentences)\n",
    "    res = []\n",
    "    \n",
    "    for i in range(K):\n",
    "        start = i\n",
    "        end = -(K -i -1)\n",
    "        if end == 0:\n",
    "            end = None\n",
    "        \n",
    "        #print(f\"{start}, {end}\")\n",
    "        res.append(doc_sentences[start: end])\n",
    "    return(res)\n",
    "\n",
    "\n",
    "ner_col = {'INTERVALNAME': \"blue\", \n",
    "           'TAXA': \"orange\", \n",
    "           'LOCATION': \"red\", \n",
    "           'COUNTRY': \"red\"}\n",
    "\n",
    "def text(sentence):\n",
    "    \"\"\"\n",
    "    lorem ipsum\n",
    "    \"\"\"\n",
    "    tokens = sentence[\"tokens\"]\n",
    "    ot = [x[\"originalText\"] for x in tokens]\n",
    "    ners = [x[\"ner\"] for x in tokens]\n",
    "    \n",
    "    for i, _ in enumerate(tokens):\n",
    "        if ners[i] in classes.keys():\n",
    "            col = ner_col[ners[i]]\n",
    "            ot[i] = f\"<font color={col}>{ot[i]}</font>\"\n",
    "            \n",
    "    res = HTML(' '.join(ot))\n",
    "\n",
    "    return(res)"
   ]
  },
  {
   "cell_type": "code",
   "execution_count": 12,
   "metadata": {},
   "outputs": [],
   "source": [
    "with open(\"DiMartino_Taylor_miocene_bryozoa_2015.json\", \"r\") as f:\n",
    "    doc = json.loads(f.read())"
   ]
  },
  {
   "cell_type": "code",
   "execution_count": 108,
   "metadata": {},
   "outputs": [],
   "source": [
    "doc_sentences = doc[0][\"sentences\"]"
   ]
  },
  {
   "cell_type": "code",
   "execution_count": null,
   "metadata": {},
   "outputs": [],
   "source": []
  },
  {
   "cell_type": "code",
   "execution_count": 146,
   "metadata": {},
   "outputs": [],
   "source": []
  },
  {
   "cell_type": "code",
   "execution_count": 147,
   "metadata": {},
   "outputs": [],
   "source": [
    "sentences = sentences_view(doc_sentences, 3)"
   ]
  },
  {
   "cell_type": "code",
   "execution_count": null,
   "metadata": {},
   "outputs": [],
   "source": []
  },
  {
   "cell_type": "code",
   "execution_count": null,
   "metadata": {},
   "outputs": [],
   "source": []
  },
  {
   "cell_type": "code",
   "execution_count": 174,
   "metadata": {},
   "outputs": [
    {
     "name": "stdout",
     "output_type": "stream",
     "text": [
      "BINGO\n",
      "BINGO\n",
      "BINGO\n",
      "BINGO\n",
      "BINGO\n",
      "BINGO\n",
      "BINGO\n",
      "BINGO\n",
      "BINGO\n",
      "BINGO\n",
      "BINGO\n",
      "BINGO\n",
      "BINGO\n",
      "BINGO\n",
      "BINGO\n",
      "BINGO\n",
      "BINGO\n",
      "BINGO\n",
      "BINGO\n",
      "BINGO\n",
      "BINGO\n",
      "BINGO\n",
      "BINGO\n",
      "BINGO\n",
      "BINGO\n",
      "BINGO\n",
      "BINGO\n",
      "BINGO\n",
      "BINGO\n",
      "BINGO\n",
      "BINGO\n",
      "BINGO\n",
      "BINGO\n",
      "BINGO\n",
      "BINGO\n",
      "BINGO\n",
      "BINGO\n",
      "BINGO\n",
      "BINGO\n",
      "BINGO\n",
      "BINGO\n",
      "BINGO\n",
      "BINGO\n",
      "BINGO\n",
      "BINGO\n",
      "BINGO\n",
      "BINGO\n",
      "BINGO\n",
      "BINGO\n",
      "BINGO\n",
      "BINGO\n",
      "BINGO\n",
      "BINGO\n",
      "BINGO\n",
      "BINGO\n",
      "BINGO\n",
      "BINGO\n",
      "BINGO\n",
      "BINGO\n",
      "BINGO\n",
      "BINGO\n",
      "BINGO\n",
      "BINGO\n",
      "BINGO\n",
      "BINGO\n",
      "BINGO\n",
      "BINGO\n",
      "BINGO\n",
      "BINGO\n",
      "BINGO\n",
      "BINGO\n",
      "BINGO\n",
      "BINGO\n",
      "BINGO\n",
      "BINGO\n",
      "BINGO\n",
      "BINGO\n",
      "BINGO\n",
      "BINGO\n",
      "BINGO\n",
      "BINGO\n",
      "BINGO\n",
      "BINGO\n",
      "BINGO\n",
      "BINGO\n",
      "BINGO\n",
      "BINGO\n",
      "BINGO\n",
      "BINGO\n",
      "BINGO\n",
      "BINGO\n",
      "BINGO\n",
      "BINGO\n",
      "BINGO\n",
      "BINGO\n",
      "BINGO\n",
      "BINGO\n",
      "BINGO\n",
      "BINGO\n",
      "BINGO\n",
      "BINGO\n",
      "BINGO\n",
      "BINGO\n",
      "BINGO\n",
      "BINGO\n",
      "BINGO\n",
      "BINGO\n",
      "BINGO\n",
      "BINGO\n",
      "BINGO\n",
      "BINGO\n",
      "BINGO\n",
      "BINGO\n",
      "BINGO\n",
      "BINGO\n",
      "BINGO\n",
      "BINGO\n",
      "BINGO\n",
      "BINGO\n",
      "BINGO\n",
      "BINGO\n",
      "BINGO\n",
      "BINGO\n",
      "BINGO\n",
      "BINGO\n",
      "BINGO\n",
      "BINGO\n",
      "BINGO\n",
      "BINGO\n",
      "BINGO\n",
      "BINGO\n",
      "BINGO\n",
      "BINGO\n",
      "BINGO\n",
      "BINGO\n",
      "BINGO\n",
      "BINGO\n"
     ]
    }
   ],
   "source": [
    "K = 2\n",
    "verbose = False\n",
    "\n",
    "sentences = sentences_view(doc_sentences, K)\n",
    "\n",
    "bingo_idx = []\n",
    "for i, sentences in enumerate(itertools.islice(zip(*sentences), 1700)):\n",
    "    indices = [i+k for k in range(len(sentences))]\n",
    "    ind_str = ', '.join([str(x) for x in indices])\n",
    "    \n",
    "    if verbose:\n",
    "        print(f\"Sentence: {ind_str}\")\n",
    "    \n",
    "    ems = []\n",
    "    for sentence in sentences:\n",
    "        ems = ems + sentence[\"entitymentions\"]    \n",
    "        \n",
    "    if ems:\n",
    "        em_classes = {x[\"ner\"] for x in ems}\n",
    "\n",
    "        if criteria(em_classes):\n",
    "            bingo_idx.append(indices)\n",
    "            print(\"BINGO\")\n",
    "            "
   ]
  },
  {
   "cell_type": "code",
   "execution_count": 175,
   "metadata": {},
   "outputs": [
    {
     "data": {
      "text/plain": [
       "1717"
      ]
     },
     "execution_count": 175,
     "metadata": {},
     "output_type": "execute_result"
    }
   ],
   "source": [
    "len(doc_sentences)"
   ]
  },
  {
   "cell_type": "code",
   "execution_count": 177,
   "metadata": {},
   "outputs": [
    {
     "data": {
      "text/plain": [
       "[{'characterOffsetBegin': 200626,\n",
       "  'characterOffsetEnd': 200636,\n",
       "  'docTokenBegin': 39352,\n",
       "  'docTokenEnd': 39353,\n",
       "  'ner': 'NUMBER',\n",
       "  'normalizedNER': '26.0',\n",
       "  'text': 'Twenty-six',\n",
       "  'tokenBegin': 0,\n",
       "  'tokenEnd': 1},\n",
       " {'characterOffsetBegin': 200643,\n",
       "  'characterOffsetEnd': 200646,\n",
       "  'docTokenBegin': 39355,\n",
       "  'docTokenEnd': 39357,\n",
       "  'ner': 'PERCENT',\n",
       "  'normalizedNER': '%22.0',\n",
       "  'text': '22%',\n",
       "  'tokenBegin': 3,\n",
       "  'tokenEnd': 5},\n",
       " {'characterOffsetBegin': 200713,\n",
       "  'characterOffsetEnd': 200715,\n",
       "  'docTokenBegin': 39369,\n",
       "  'docTokenEnd': 39370,\n",
       "  'ner': 'NUMBER',\n",
       "  'normalizedNER': '20.0',\n",
       "  'text': '20',\n",
       "  'tokenBegin': 3,\n",
       "  'tokenEnd': 4},\n",
       " {'characterOffsetBegin': 200725,\n",
       "  'characterOffsetEnd': 200728,\n",
       "  'docTokenBegin': 39372,\n",
       "  'docTokenEnd': 39374,\n",
       "  'ner': 'PERCENT',\n",
       "  'normalizedNER': '%16.0',\n",
       "  'text': '16%',\n",
       "  'tokenBegin': 6,\n",
       "  'tokenEnd': 8},\n",
       " {'characterOffsetBegin': 200735,\n",
       "  'characterOffsetEnd': 200741,\n",
       "  'docTokenBegin': 39376,\n",
       "  'docTokenEnd': 39377,\n",
       "  'ner': 'INTERVALNAME',\n",
       "  'text': 'Recent',\n",
       "  'tokenBegin': 10,\n",
       "  'tokenEnd': 11},\n",
       " {'characterOffsetBegin': 200742,\n",
       "  'characterOffsetEnd': 200754,\n",
       "  'docTokenBegin': 39377,\n",
       "  'docTokenEnd': 39378,\n",
       "  'ner': 'MISC',\n",
       "  'text': 'Indo-Pacific',\n",
       "  'tokenBegin': 11,\n",
       "  'tokenEnd': 12},\n",
       " {'characterOffsetBegin': 200767,\n",
       "  'characterOffsetEnd': 200770,\n",
       "  'docTokenBegin': 39380,\n",
       "  'docTokenEnd': 39381,\n",
       "  'ner': 'NUMBER',\n",
       "  'normalizedNER': '2.0',\n",
       "  'text': 'two',\n",
       "  'tokenBegin': 14,\n",
       "  'tokenEnd': 15},\n",
       " {'characterOffsetBegin': 200772,\n",
       "  'characterOffsetEnd': 200774,\n",
       "  'docTokenBegin': 39382,\n",
       "  'docTokenEnd': 39384,\n",
       "  'ner': 'PERCENT',\n",
       "  'normalizedNER': '%2.0',\n",
       "  'text': '2%',\n",
       "  'tokenBegin': 16,\n",
       "  'tokenEnd': 18},\n",
       " {'characterOffsetBegin': 200777,\n",
       "  'characterOffsetEnd': 200806,\n",
       "  'docTokenBegin': 39386,\n",
       "  'docTokenEnd': 39389,\n",
       "  'ner': 'TAXA',\n",
       "  'text': 'Scorpiodinipora cf. costulata',\n",
       "  'tokenBegin': 20,\n",
       "  'tokenEnd': 23},\n",
       " {'characterOffsetBegin': 200811,\n",
       "  'characterOffsetEnd': 200838,\n",
       "  'docTokenBegin': 39390,\n",
       "  'docTokenEnd': 39393,\n",
       "  'ner': 'TAXA',\n",
       "  'text': 'Hippopodina cf. pulcherrima',\n",
       "  'tokenBegin': 24,\n",
       "  'tokenEnd': 27},\n",
       " {'characterOffsetBegin': 200861,\n",
       "  'characterOffsetEnd': 200867,\n",
       "  'docTokenBegin': 39397,\n",
       "  'docTokenEnd': 39398,\n",
       "  'ner': 'INTERVALNAME',\n",
       "  'text': 'Recent',\n",
       "  'tokenBegin': 31,\n",
       "  'tokenEnd': 32},\n",
       " {'characterOffsetBegin': 200907,\n",
       "  'characterOffsetEnd': 200912,\n",
       "  'docTokenBegin': 39403,\n",
       "  'docTokenEnd': 39404,\n",
       "  'ner': 'NUMBER',\n",
       "  'normalizedNER': '3.0',\n",
       "  'text': 'three',\n",
       "  'tokenBegin': 37,\n",
       "  'tokenEnd': 38},\n",
       " {'characterOffsetBegin': 200922,\n",
       "  'characterOffsetEnd': 200924,\n",
       "  'docTokenBegin': 39406,\n",
       "  'docTokenEnd': 39408,\n",
       "  'ner': 'PERCENT',\n",
       "  'normalizedNER': '%3.0',\n",
       "  'text': '3%',\n",
       "  'tokenBegin': 40,\n",
       "  'tokenEnd': 42},\n",
       " {'characterOffsetBegin': 200949,\n",
       "  'characterOffsetEnd': 200959,\n",
       "  'docTokenBegin': 39413,\n",
       "  'docTokenEnd': 39414,\n",
       "  'ner': 'DATE',\n",
       "  'normalizedNER': 'PAST_REF',\n",
       "  'text': 'previously',\n",
       "  'timex': {'tid': 't569', 'type': 'DATE', 'value': 'PAST_REF'},\n",
       "  'tokenBegin': 47,\n",
       "  'tokenEnd': 48},\n",
       " {'characterOffsetBegin': 200995,\n",
       "  'characterOffsetEnd': 201021,\n",
       "  'docTokenBegin': 39421,\n",
       "  'docTokenEnd': 39424,\n",
       "  'ner': 'TAXA',\n",
       "  'text': 'Adeonellopsis aff. obliqua',\n",
       "  'tokenBegin': 55,\n",
       "  'tokenEnd': 58},\n",
       " {'characterOffsetBegin': 201031,\n",
       "  'characterOffsetEnd': 201039,\n",
       "  'docTokenBegin': 39426,\n",
       "  'docTokenEnd': 39427,\n",
       "  'ner': 'INTERVALNAME',\n",
       "  'text': 'Cenozoic',\n",
       "  'tokenBegin': 60,\n",
       "  'tokenEnd': 61},\n",
       " {'characterOffsetBegin': 201043,\n",
       "  'characterOffsetEnd': 201052,\n",
       "  'docTokenBegin': 39428,\n",
       "  'docTokenEnd': 39429,\n",
       "  'ner': 'COUNTRY',\n",
       "  'text': 'Australia',\n",
       "  'tokenBegin': 62,\n",
       "  'tokenEnd': 63},\n",
       " {'characterOffsetBegin': 201058,\n",
       "  'characterOffsetEnd': 201085,\n",
       "  'docTokenBegin': 39431,\n",
       "  'docTokenEnd': 39434,\n",
       "  'ner': 'TAXA',\n",
       "  'text': 'Cigclisula aff. ramparensis',\n",
       "  'tokenBegin': 65,\n",
       "  'tokenEnd': 68},\n",
       " {'characterOffsetBegin': 201090,\n",
       "  'characterOffsetEnd': 201109,\n",
       "  'docTokenBegin': 39435,\n",
       "  'docTokenEnd': 39437,\n",
       "  'ner': 'TAXA',\n",
       "  'text': 'Turbicellepora aff.',\n",
       "  'tokenBegin': 69,\n",
       "  'tokenEnd': 71},\n",
       " {'characterOffsetBegin': 201125,\n",
       "  'characterOffsetEnd': 201138,\n",
       "  'docTokenBegin': 39440,\n",
       "  'docTokenEnd': 39442,\n",
       "  'ner': 'INTERVALNAME',\n",
       "  'text': 'Early Miocene',\n",
       "  'tokenBegin': 74,\n",
       "  'tokenEnd': 76},\n",
       " {'characterOffsetBegin': 201142,\n",
       "  'characterOffsetEnd': 201147,\n",
       "  'docTokenBegin': 39443,\n",
       "  'docTokenEnd': 39444,\n",
       "  'ner': 'COUNTRY',\n",
       "  'text': 'India',\n",
       "  'tokenBegin': 77,\n",
       "  'tokenEnd': 78}]"
      ]
     },
     "execution_count": 177,
     "metadata": {},
     "output_type": "execute_result"
    }
   ],
   "source": [
    "ems"
   ]
  },
  {
   "cell_type": "code",
   "execution_count": 176,
   "metadata": {
    "scrolled": false
   },
   "outputs": [
    {
     "name": "stdout",
     "output_type": "stream",
     "text": [
      "=== -- === -- === -- === -- === -- === -- ===\n"
     ]
    },
    {
     "data": {
      "text/html": [
       "We describe 72 ascophoran-grade cheilostomes , ranging in age from Early to <font color=blue>Late</font> <font color=blue>Miocene</font> ( <font color=blue>late</font> <font color=blue>Burdigalian</font> to <font color=blue>Messinian</font> ) , collected from 17 sections in the vicinities of Samarinda , Bontang and <font color=red>Sangkulirang</font> in <font color=red>East</font> <font color=red>Kalimantan</font> , Indonesian <font color=red>Borneo</font> ."
      ],
      "text/plain": [
       "<IPython.core.display.HTML object>"
      ]
     },
     "metadata": {},
     "output_type": "display_data"
    },
    {
     "data": {
      "text/html": [
       "Two genera ( <font color=orange>Oviexechonella</font> gen. nov. and <font color=orange>Sendinopora</font> gen. nov. ) and twenty species ( ?"
      ],
      "text/plain": [
       "<IPython.core.display.HTML object>"
      ]
     },
     "metadata": {},
     "output_type": "display_data"
    },
    {
     "name": "stdout",
     "output_type": "stream",
     "text": [
      "=== -- === -- === -- === -- === -- === -- ===\n"
     ]
    },
    {
     "data": {
      "text/html": [
       "<font color=orange>Hippomenella</font> <font color=orange>uniserialis</font> <font color=orange>sp.</font> <font color=orange>nov.</font> , <font color=orange>Margaretta</font> <font color=orange>amitabhae</font> <font color=orange>sp.</font> <font color=orange>nov.</font> , <font color=orange>Hippopodina</font> <font color=orange>indicata</font> <font color=orange>sp.</font> <font color=orange>nov.</font> , <font color=orange>Saevitella</font> <font color=orange>renemai</font> <font color=orange>sp.</font> <font color=orange>nov.</font> , <font color=orange>Gigantopora</font> <font color=orange>milenae</font> <font color=orange>sp.</font> <font color=orange>nov.</font> , <font color=orange>Arthropoma</font> <font color=orange>renipora</font> <font color=orange>sp.</font> nov , <font color=orange>Bryopesanser</font> <font color=orange>bragai</font> <font color=orange>sp.</font> <font color=orange>nov.</font> , <font color=orange>Bryopesanser</font> <font color=orange>sanfilippoae</font> <font color=orange>sp.</font> <font color=orange>nov.</font> , <font color=orange>Tubiporella</font> <font color=orange>magnipora</font> <font color=orange>sp.</font> <font color=orange>nov.</font> , <font color=orange>Buffonellaria</font> <font color=orange>sagittaria</font> <font color=orange>sp.</font> <font color=orange>nov.</font> , <font color=orange>Lagenipora</font> <font color=orange>sciutoi</font> <font color=orange>sp.</font> <font color=orange>nov.</font> and <font color=orange>Sendinopora</font> <font color=orange>prima</font> <font color=orange>sp.</font> <font color=orange>nov.</font> ) are new ."
      ],
      "text/plain": [
       "<IPython.core.display.HTML object>"
      ]
     },
     "metadata": {},
     "output_type": "display_data"
    },
    {
     "data": {
      "text/html": [
       "Ten species show affinities with <font color=blue>Recent</font> taxa from the Indo-Pacific ; two species show similarities with <font color=blue>Recent</font> species recorded circumtropically ; and three species were known previously from the <font color=blue>Neogene</font> of <font color=red>Europe</font> , <font color=red>Australia</font> or <font color=red>India</font> ."
      ],
      "text/plain": [
       "<IPython.core.display.HTML object>"
      ]
     },
     "metadata": {},
     "output_type": "display_data"
    },
    {
     "name": "stdout",
     "output_type": "stream",
     "text": [
      "=== -- === -- === -- === -- === -- === -- ===\n"
     ]
    },
    {
     "data": {
      "text/html": [
       "<font color=blue>Miocene</font> Bryozoa from <font color=red>East</font> <font color=red>Kalimantan</font> ( Part II ) ."
      ],
      "text/plain": [
       "<IPython.core.display.HTML object>"
      ]
     },
     "metadata": {},
     "output_type": "display_data"
    },
    {
     "data": {
      "text/html": [
       "Scripta Geol. , 148 ( 2015 ) genus <font color=orange>Filaguria</font> because of the ambiguous presence of a ‘ primitive ’ avicularium , which is the main diagnostic feature of the genus ( Moyano , 1991 ) ."
      ],
      "text/plain": [
       "<IPython.core.display.HTML object>"
      ]
     },
     "metadata": {},
     "output_type": "display_data"
    },
    {
     "name": "stdout",
     "output_type": "stream",
     "text": [
      "=== -- === -- === -- === -- === -- === -- ===\n"
     ]
    },
    {
     "data": {
      "text/html": [
       "The preservation of the colony does not allow elimination of the possibility that this zooid is instead an autozooid with a broken frontal shield and orifice that is squeezed in-between normally shaped zooids , although the tapered distal part supports its identification as a vicarious avicularium ."
      ],
      "text/plain": [
       "<IPython.core.display.HTML object>"
      ]
     },
     "metadata": {},
     "output_type": "display_data"
    },
    {
     "data": {
      "text/html": [
       "The genus <font color=orange>Filaguria</font> includes two <font color=blue>Recent</font> species , <font color=orange>F.</font> <font color=orange>spatulata</font> ( Calvet , 1909 ) and F. lithocrustata Branch & Hayward , 2005 , the former species with a wide Antarctic distribution , the latter reported from Marion <font color=red>Island</font> in the <font color=red>South</font> Indian <font color=red>Ocean</font> at depths of 160 to 775 m ."
      ],
      "text/plain": [
       "<IPython.core.display.HTML object>"
      ]
     },
     "metadata": {},
     "output_type": "display_data"
    },
    {
     "name": "stdout",
     "output_type": "stream",
     "text": [
      "=== -- === -- === -- === -- === -- === -- ===\n"
     ]
    },
    {
     "data": {
      "text/html": [
       "The genus <font color=orange>Filaguria</font> includes two <font color=blue>Recent</font> species , <font color=orange>F.</font> <font color=orange>spatulata</font> ( Calvet , 1909 ) and F. lithocrustata Branch & Hayward , 2005 , the former species with a wide Antarctic distribution , the latter reported from Marion <font color=red>Island</font> in the <font color=red>South</font> Indian <font color=red>Ocean</font> at depths of 160 to 775 m ."
      ],
      "text/plain": [
       "<IPython.core.display.HTML object>"
      ]
     },
     "metadata": {},
     "output_type": "display_data"
    },
    {
     "data": {
      "text/html": [
       "The Kalimantan species differs from both in having a much more extensive gymnocyst and fewer oral spines ."
      ],
      "text/plain": [
       "<IPython.core.display.HTML object>"
      ]
     },
     "metadata": {},
     "output_type": "display_data"
    },
    {
     "name": "stdout",
     "output_type": "stream",
     "text": [
      "=== -- === -- === -- === -- === -- === -- ===\n"
     ]
    },
    {
     "data": {
      "text/html": [
       "Also , the number of projections of the tip of the rostrum is unclear owing to erosion ."
      ],
      "text/plain": [
       "<IPython.core.display.HTML object>"
      ]
     },
     "metadata": {},
     "output_type": "display_data"
    },
    {
     "data": {
      "text/html": [
       "These problems are the main uncertainities about the attribution of the Kalimantan species to <font color=blue>Recent</font> <font color=orange>Puellina</font> voigti , which has been recorded from shallow waters in the <font color=red>Philippines</font> ( 0.5-5 m ) ( Ristedt , 1985 ; Scholz , 1991 ) and the <font color=red>Solomon</font> <font color=red>Islands</font> ( Tilbrook , 2006 ) ."
      ],
      "text/plain": [
       "<IPython.core.display.HTML object>"
      ]
     },
     "metadata": {},
     "output_type": "display_data"
    },
    {
     "name": "stdout",
     "output_type": "stream",
     "text": [
      "=== -- === -- === -- === -- === -- === -- ===\n"
     ]
    },
    {
     "data": {
      "text/html": [
       "These problems are the main uncertainities about the attribution of the Kalimantan species to <font color=blue>Recent</font> <font color=orange>Puellina</font> voigti , which has been recorded from shallow waters in the <font color=red>Philippines</font> ( 0.5-5 m ) ( Ristedt , 1985 ; Scholz , 1991 ) and the <font color=red>Solomon</font> <font color=red>Islands</font> ( Tilbrook , 2006 ) ."
      ],
      "text/plain": [
       "<IPython.core.display.HTML object>"
      ]
     },
     "metadata": {},
     "output_type": "display_data"
    },
    {
     "data": {
      "text/html": [
       "In addition the Kalimantan specimens have smaller autozooids and different proportions of length and width in both autozooids and ooecia ."
      ],
      "text/plain": [
       "<IPython.core.display.HTML object>"
      ]
     },
     "metadata": {},
     "output_type": "display_data"
    },
    {
     "name": "stdout",
     "output_type": "stream",
     "text": [
      "=== -- === -- === -- === -- === -- === -- ===\n"
     ]
    },
    {
     "data": {
      "text/html": [
       "The uncertainty in the number of oral spine bases , due to the poor preservation of the few specimens found , make identification and comparisons difficult ."
      ],
      "text/plain": [
       "<IPython.core.display.HTML object>"
      ]
     },
     "metadata": {},
     "output_type": "display_data"
    },
    {
     "data": {
      "text/html": [
       "However , the shape and orientation of the avicularia show some affinities with those of <font color=orange>Puellina</font> <font color=orange>scripta</font> ( Reuss , 1848 ) from the <font color=blue>Miocene</font> of <font color=red>Austria</font> ( illustrated in Bishop & Househam , 1987 , p. 58 , figs. 98-99 ) ."
      ],
      "text/plain": [
       "<IPython.core.display.HTML object>"
      ]
     },
     "metadata": {},
     "output_type": "display_data"
    },
    {
     "name": "stdout",
     "output_type": "stream",
     "text": [
      "=== -- === -- === -- === -- === -- === -- ===\n"
     ]
    },
    {
     "data": {
      "text/html": [
       "However , the shape and orientation of the avicularia show some affinities with those of <font color=orange>Puellina</font> <font color=orange>scripta</font> ( Reuss , 1848 ) from the <font color=blue>Miocene</font> of <font color=red>Austria</font> ( illustrated in Bishop & Househam , 1987 , p. 58 , figs. 98-99 ) ."
      ],
      "text/plain": [
       "<IPython.core.display.HTML object>"
      ]
     },
     "metadata": {},
     "output_type": "display_data"
    },
    {
     "data": {
      "text/html": [
       "Superfamily Catenicelloidea Busk , 1852 Family Catenicellidae Busk , 1852 Genus <font color=orange>Caberoides</font> Canu , 1908 <font color=orange>Caberoides</font> <font color=orange>gordoni</font> <font color=orange>sp.</font> <font color=orange>nov</font> ."
      ],
      "text/plain": [
       "<IPython.core.display.HTML object>"
      ]
     },
     "metadata": {},
     "output_type": "display_data"
    },
    {
     "name": "stdout",
     "output_type": "stream",
     "text": [
      "=== -- === -- === -- === -- === -- === -- ===\n"
     ]
    },
    {
     "data": {
      "text/html": [
       "Attribution to <font color=orange>Caberoides</font> instead of the closely related Ditaxipora MacGillivray , 1895 , is based on the presence of the vestigial suboral costal field and the vibraculum-like chamber , extending behind each avicularium , on the dorsal side ."
      ],
      "text/plain": [
       "<IPython.core.display.HTML object>"
      ]
     },
     "metadata": {},
     "output_type": "display_data"
    },
    {
     "data": {
      "text/html": [
       "Five species of <font color=orange>Caberoides</font> are known from the fossil record : <font color=orange>C.</font> <font color=orange>rockallensis</font> Gordon & Braga , 1994 , from the <font color=blue>Paleocene</font> of the <font color=red>North</font> <font color=red>Atlantic</font> , and <font color=orange>C.</font> <font color=orange>canaliculata</font> and <font color=orange>C.</font> <font color=orange>grignonensis</font> Canu , 1908 , from the <font color=blue>Eocene</font> of <font color=red>France</font> , <font color=orange>C.</font> <font color=orange>continua</font> ( Waters , 1891 ) and <font color=orange>C.</font> <font color=orange>miranda</font> Gordon & Braga , 1994 , from the <font color=blue>Eocene</font> of <font color=red>Italy</font> and <font color=red>New</font> <font color=red>Zealand</font> , respectively ."
      ],
      "text/plain": [
       "<IPython.core.display.HTML object>"
      ]
     },
     "metadata": {},
     "output_type": "display_data"
    },
    {
     "name": "stdout",
     "output_type": "stream",
     "text": [
      "=== -- === -- === -- === -- === -- === -- ===\n"
     ]
    },
    {
     "data": {
      "text/html": [
       "Five species of <font color=orange>Caberoides</font> are known from the fossil record : <font color=orange>C.</font> <font color=orange>rockallensis</font> Gordon & Braga , 1994 , from the <font color=blue>Paleocene</font> of the <font color=red>North</font> <font color=red>Atlantic</font> , and <font color=orange>C.</font> <font color=orange>canaliculata</font> and <font color=orange>C.</font> <font color=orange>grignonensis</font> Canu , 1908 , from the <font color=blue>Eocene</font> of <font color=red>France</font> , <font color=orange>C.</font> <font color=orange>continua</font> ( Waters , 1891 ) and <font color=orange>C.</font> <font color=orange>miranda</font> Gordon & Braga , 1994 , from the <font color=blue>Eocene</font> of <font color=red>Italy</font> and <font color=red>New</font> <font color=red>Zealand</font> , respectively ."
      ],
      "text/plain": [
       "<IPython.core.display.HTML object>"
      ]
     },
     "metadata": {},
     "output_type": "display_data"
    },
    {
     "data": {
      "text/html": [
       "The new species differs from <font color=orange>C.</font> <font color=orange>miranda</font> and <font color=orange>C.</font> <font color=orange>rockallensis</font> in having only two cryptocystal frontal areas instead of four or five ; from <font color=orange>C.</font> <font color=orange>canaliculata</font> in having much more slender internodes , with longer and narrower zooids ( mean L/W = 0.95 in <font color=orange>C.</font> <font color=orange>canaliculata</font> vs 2.33 in <font color=orange>Caberoides</font> <font color=orange>gordoni</font> <font color=orange>sp.</font> <font color=orange>nov.</font> ) , and a dorsal side with a shorter vibraculum-like chamber and a narrower cryptocystal area with septular pores arranged in a single linear series instead of being irregularly scattered ; from <font color=orange>C.</font> <font color=orange>grignonensis</font> in having narrower and shorter segments , and a much less conspicuous suboral costal field ; and from <font color=orange>C.</font> <font color=orange>continua</font> in having cryptocystal dorsal areas which are lacking in the Italian species ."
      ],
      "text/plain": [
       "<IPython.core.display.HTML object>"
      ]
     },
     "metadata": {},
     "output_type": "display_data"
    },
    {
     "name": "stdout",
     "output_type": "stream",
     "text": [
      "=== -- === -- === -- === -- === -- === -- ===\n"
     ]
    },
    {
     "data": {
      "text/html": [
       "<font color=orange>Trypostega</font> <font color=orange>hasibuani</font> <font color=orange>sp.</font> <font color=orange>nov.</font> lacks kenozooids ."
      ],
      "text/plain": [
       "<IPython.core.display.HTML object>"
      ]
     },
     "metadata": {},
     "output_type": "display_data"
    },
    {
     "data": {
      "text/html": [
       "This absence also characterises <font color=orange>T.</font> <font color=orange>rugulosa</font> ( Reuss , 1874 ) from the <font color=blue>Neogene</font> of <font color=red>Europe</font> , although Zágoršek ( 2010 ) observed irregular kenozooids in some specimens from the <font color=blue>Miocene</font> of the <font color=red>Czech</font> <font color=red>Republic</font> that he attributed to this species ."
      ],
      "text/plain": [
       "<IPython.core.display.HTML object>"
      ]
     },
     "metadata": {},
     "output_type": "display_data"
    },
    {
     "name": "stdout",
     "output_type": "stream",
     "text": [
      "=== -- === -- === -- === -- === -- === -- ===\n"
     ]
    },
    {
     "data": {
      "text/html": [
       "This absence also characterises <font color=orange>T.</font> <font color=orange>rugulosa</font> ( Reuss , 1874 ) from the <font color=blue>Neogene</font> of <font color=red>Europe</font> , although Zágoršek ( 2010 ) observed irregular kenozooids in some specimens from the <font color=blue>Miocene</font> of the <font color=red>Czech</font> <font color=red>Republic</font> that he attributed to this species ."
      ],
      "text/plain": [
       "<IPython.core.display.HTML object>"
      ]
     },
     "metadata": {},
     "output_type": "display_data"
    },
    {
     "data": {
      "text/html": [
       "However , the Kalimantan species differs from <font color=orange>T.</font> <font color=orange>rugulosa</font> also in having much smaller ooecia without any umbo or ridge ."
      ],
      "text/plain": [
       "<IPython.core.display.HTML object>"
      ]
     },
     "metadata": {},
     "output_type": "display_data"
    },
    {
     "name": "stdout",
     "output_type": "stream",
     "text": [
      "=== -- === -- === -- === -- === -- === -- ===\n"
     ]
    },
    {
     "data": {
      "text/html": [
       "<font color=orange>Poricella</font> <font color=orange>sp.</font> mainly differs from <font color=orange>P.</font> <font color=orange>robusta</font> and <font color=orange>P.</font> <font color=orange>spathulata</font> in always having a single foramen instead of one to three or two to twenty frontal foramina , and in the shape of interzooidal avicularia , which are asymmetrically developed in the former but spathulate and truncate in the latter species ."
      ],
      "text/plain": [
       "<IPython.core.display.HTML object>"
      ]
     },
     "metadata": {},
     "output_type": "display_data"
    },
    {
     "data": {
      "text/html": [
       "A few species of <font color=orange>Poricella</font> have been described from the <font color=blue>Miocene</font> of <font color=red>Europe</font> and <font color=red>North</font> <font color=red>Africa</font> ; <font color=orange>P.</font> <font color=orange>areolata</font> ( Reuss , 1874 ) , <font color=orange>P.</font> <font color=orange>bugei</font> ( El Hajjaji , 1987 ) , <font color=orange>P.</font> <font color=orange>cookae</font> ( Pouyet & Moissette , 1986 ) , <font color=orange>P.</font> <font color=orange>pouyetae</font> ( Cook , 1977 ) and <font color=orange>P.</font> <font color=orange>mucronata</font> ( Smitt , 1873 ) ."
      ],
      "text/plain": [
       "<IPython.core.display.HTML object>"
      ]
     },
     "metadata": {},
     "output_type": "display_data"
    },
    {
     "name": "stdout",
     "output_type": "stream",
     "text": [
      "=== -- === -- === -- === -- === -- === -- ===\n"
     ]
    },
    {
     "data": {
      "text/html": [
       "A few species of <font color=orange>Poricella</font> have been described from the <font color=blue>Miocene</font> of <font color=red>Europe</font> and <font color=red>North</font> <font color=red>Africa</font> ; <font color=orange>P.</font> <font color=orange>areolata</font> ( Reuss , 1874 ) , <font color=orange>P.</font> <font color=orange>bugei</font> ( El Hajjaji , 1987 ) , <font color=orange>P.</font> <font color=orange>cookae</font> ( Pouyet & Moissette , 1986 ) , <font color=orange>P.</font> <font color=orange>pouyetae</font> ( Cook , 1977 ) and <font color=orange>P.</font> <font color=orange>mucronata</font> ( Smitt , 1873 ) ."
      ],
      "text/plain": [
       "<IPython.core.display.HTML object>"
      ]
     },
     "metadata": {},
     "output_type": "display_data"
    },
    {
     "data": {
      "text/html": [
       "Among these , the most similar to <font color=orange>Poricella</font> <font color=orange>sp.</font> is <font color=orange>P.</font> <font color=orange>cookae</font> , but this species may have one or two small foramina and a weak suboral mucron , and the interzooidal avicularia , which although similar in shape , are much squatter than those of <font color=orange>Poricella</font> <font color=orange>sp</font> ."
      ],
      "text/plain": [
       "<IPython.core.display.HTML object>"
      ]
     },
     "metadata": {},
     "output_type": "display_data"
    },
    {
     "name": "stdout",
     "output_type": "stream",
     "text": [
      "=== -- === -- === -- === -- === -- === -- ===\n"
     ]
    },
    {
     "data": {
      "text/html": [
       "Remarks – A single colony of <font color=orange>Exechonella</font> <font color=orange>sp.</font> has been discovered encrusting a <font color=blue>Serravallian</font> pectiniid coral ."
      ],
      "text/plain": [
       "<IPython.core.display.HTML object>"
      ]
     },
     "metadata": {},
     "output_type": "display_data"
    },
    {
     "data": {
      "text/html": [
       "The morphology of this species combines aspects of two <font color=blue>Recent</font> species : <font color=orange>E.</font> <font color=orange>papillata</font> Cook & Bock , 2004 , from the Great Australian Bight , and <font color=orange>E.</font> <font color=orange>loslosensis</font> Tilbrook , 2006 , from <font color=red>Pulau</font> <font color=red>Loslos</font> , <font color=red>Papua</font> , <font color=red>Indonesia</font> ."
      ],
      "text/plain": [
       "<IPython.core.display.HTML object>"
      ]
     },
     "metadata": {},
     "output_type": "display_data"
    },
    {
     "name": "stdout",
     "output_type": "stream",
     "text": [
      "=== -- === -- === -- === -- === -- === -- ===\n"
     ]
    },
    {
     "data": {
      "text/html": [
       "The morphology of this species combines aspects of two <font color=blue>Recent</font> species : <font color=orange>E.</font> <font color=orange>papillata</font> Cook & Bock , 2004 , from the Great Australian Bight , and <font color=orange>E.</font> <font color=orange>loslosensis</font> Tilbrook , 2006 , from <font color=red>Pulau</font> <font color=red>Loslos</font> , <font color=red>Papua</font> , <font color=red>Indonesia</font> ."
      ],
      "text/plain": [
       "<IPython.core.display.HTML object>"
      ]
     },
     "metadata": {},
     "output_type": "display_data"
    },
    {
     "data": {
      "text/html": [
       "<font color=orange>Exechonella</font> <font color=orange>sp.</font> is similar to <font color=orange>E.</font> <font color=orange>papillata</font> in having lateral kenozooids , while it is similar to <font color=orange>E.</font> <font color=orange>loslosensis</font> in having frontal projections ."
      ],
      "text/plain": [
       "<IPython.core.display.HTML object>"
      ]
     },
     "metadata": {},
     "output_type": "display_data"
    },
    {
     "name": "stdout",
     "output_type": "stream",
     "text": [
      "=== -- === -- === -- === -- === -- === -- ===\n"
     ]
    },
    {
     "data": {
      "text/html": [
       "Genus <font color=orange>Oviexechonella</font> gen. nov ."
      ],
      "text/plain": [
       "<IPython.core.display.HTML object>"
      ]
     },
     "metadata": {},
     "output_type": "display_data"
    },
    {
     "data": {
      "text/html": [
       "Type species – <font color=orange>Oviexechonella</font> <font color=orange>digeronimoi</font> <font color=orange>sp.</font> <font color=orange>nov.</font> , <font color=blue>Serravallian</font> , <font color=red>East</font> <font color=red>Kalimantan</font> , <font color=red>Indonesia</font> ."
      ],
      "text/plain": [
       "<IPython.core.display.HTML object>"
      ]
     },
     "metadata": {},
     "output_type": "display_data"
    },
    {
     "name": "stdout",
     "output_type": "stream",
     "text": [
      "=== -- === -- === -- === -- === -- === -- ===\n"
     ]
    },
    {
     "data": {
      "text/html": [
       "Type species – <font color=orange>Oviexechonella</font> <font color=orange>digeronimoi</font> <font color=orange>sp.</font> <font color=orange>nov.</font> , <font color=blue>Serravallian</font> , <font color=red>East</font> <font color=red>Kalimantan</font> , <font color=red>Indonesia</font> ."
      ],
      "text/plain": [
       "<IPython.core.display.HTML object>"
      ]
     },
     "metadata": {},
     "output_type": "display_data"
    },
    {
     "data": {
      "text/html": [
       "Etymology – Ovi - from the Latin ovum , in reference to the presence of ooecia in an Exechonella-like species ."
      ],
      "text/plain": [
       "<IPython.core.display.HTML object>"
      ]
     },
     "metadata": {},
     "output_type": "display_data"
    },
    {
     "name": "stdout",
     "output_type": "stream",
     "text": [
      "=== -- === -- === -- === -- === -- === -- ===\n"
     ]
    },
    {
     "data": {
      "text/html": [
       "3 , figs. 2-3 ) from the <font color=blue>Aquitanian</font> ( <font color=blue>Early</font> <font color=blue>Miocene</font> ) of the <font color=red>Gironde</font> , <font color=red>France</font> , as the type species ."
      ],
      "text/plain": [
       "<IPython.core.display.HTML object>"
      ]
     },
     "metadata": {},
     "output_type": "display_data"
    },
    {
     "data": {
      "text/html": [
       "Ooecia have not been directly observed before in any species of the genus and it has been generally supposed that <font color=orange>Exechonella</font> is an internal brooder ."
      ],
      "text/plain": [
       "<IPython.core.display.HTML object>"
      ]
     },
     "metadata": {},
     "output_type": "display_data"
    },
    {
     "name": "stdout",
     "output_type": "stream",
     "text": [
      "=== -- === -- === -- === -- === -- === -- ===\n"
     ]
    },
    {
     "data": {
      "text/html": [
       "<font color=blue>Miocene</font> Bryozoa from <font color=red>East</font> <font color=red>Kalimantan</font> ( Part II ) ."
      ],
      "text/plain": [
       "<IPython.core.display.HTML object>"
      ]
     },
     "metadata": {},
     "output_type": "display_data"
    },
    {
     "data": {
      "text/html": [
       "Scripta Geol. , 148 ( 2015 ) small pores and opening into the peristome above the aperture ” in their new species , <font color=orange>E.</font> <font color=orange>discoidea</font> , from the <font color=red>Philippines</font> but these were not illustrated ."
      ],
      "text/plain": [
       "<IPython.core.display.HTML object>"
      ]
     },
     "metadata": {},
     "output_type": "display_data"
    },
    {
     "name": "stdout",
     "output_type": "stream",
     "text": [
      "=== -- === -- === -- === -- === -- === -- ===\n"
     ]
    },
    {
     "data": {
      "text/html": [
       "The colonies are fanshaped and precociously fertile , the first ovicellate zooids occurring a couple of generations after the ancestrula ."
      ],
      "text/plain": [
       "<IPython.core.display.HTML object>"
      ]
     },
     "metadata": {},
     "output_type": "display_data"
    },
    {
     "data": {
      "text/html": [
       "<font color=orange>Oviexechonella</font> <font color=orange>digeronimoi</font> <font color=orange>sp.</font> <font color=orange>nov.</font> is similar in morphology to <font color=blue>the</font> <font color=blue>Recent</font> Australian species <font color=orange>Exechonella</font> <font color=orange>ampullacea</font> Hayward & Ryland , 1995 , <font color=orange>E.</font> <font color=orange>tuberculata</font> ( MacGillivray , 1883 ) and E. sp. cf. discoidea Canu & Bassler , 1929 , illustrated by Cook & Bock ( 2004 ) , and E. anuhaensis Tilbrook , 2006 , from the <font color=red>Solomon</font> <font color=red>Islands</font> , differing from all of these species in having peristomial ooecia and much smaller zooids ."
      ],
      "text/plain": [
       "<IPython.core.display.HTML object>"
      ]
     },
     "metadata": {},
     "output_type": "display_data"
    },
    {
     "name": "stdout",
     "output_type": "stream",
     "text": [
      "=== -- === -- === -- === -- === -- === -- ===\n"
     ]
    },
    {
     "data": {
      "text/html": [
       "<font color=orange>Oviexechonella</font> <font color=orange>digeronimoi</font> <font color=orange>sp.</font> <font color=orange>nov.</font> is similar in morphology to <font color=blue>the</font> <font color=blue>Recent</font> Australian species <font color=orange>Exechonella</font> <font color=orange>ampullacea</font> Hayward & Ryland , 1995 , <font color=orange>E.</font> <font color=orange>tuberculata</font> ( MacGillivray , 1883 ) and E. sp. cf. discoidea Canu & Bassler , 1929 , illustrated by Cook & Bock ( 2004 ) , and E. anuhaensis Tilbrook , 2006 , from the <font color=red>Solomon</font> <font color=red>Islands</font> , differing from all of these species in having peristomial ooecia and much smaller zooids ."
      ],
      "text/plain": [
       "<IPython.core.display.HTML object>"
      ]
     },
     "metadata": {},
     "output_type": "display_data"
    },
    {
     "data": {
      "text/html": [
       "Superfamily Adeonoidea Busk , 1884 Family Adeonidae Busk , 1884 Genus <font color=orange>Adeonellopsis</font> Levinsen , 1909 <font color=orange>Adeonellopsis</font> <font color=orange>aff.</font> <font color=orange>obliqua</font> MacGillivray , 1895 Pl. 11 , fig. 1a-c ."
      ],
      "text/plain": [
       "<IPython.core.display.HTML object>"
      ]
     },
     "metadata": {},
     "output_type": "display_data"
    },
    {
     "name": "stdout",
     "output_type": "stream",
     "text": [
      "=== -- === -- === -- === -- === -- === -- ===\n"
     ]
    },
    {
     "data": {
      "text/html": [
       "<font color=blue>Miocene</font> Bryozoa from <font color=red>East</font> <font color=red>Kalimantan</font> ( Part II ) ."
      ],
      "text/plain": [
       "<IPython.core.display.HTML object>"
      ]
     },
     "metadata": {},
     "output_type": "display_data"
    },
    {
     "data": {
      "text/html": [
       "Scripta Geol. , 148 ( 2015 ) Remarks – Branch fragments of <font color=orange>Adeonellopsis</font> <font color=orange>aff.</font> <font color=orange>obliqua</font> are reasonably common in the <font color=blue>late</font> <font color=blue>Burdigalian</font> sediments ."
      ],
      "text/plain": [
       "<IPython.core.display.HTML object>"
      ]
     },
     "metadata": {},
     "output_type": "display_data"
    },
    {
     "name": "stdout",
     "output_type": "stream",
     "text": [
      "=== -- === -- === -- === -- === -- === -- ===\n"
     ]
    },
    {
     "data": {
      "text/html": [
       "Remarks – <font color=orange>Reptadeonella</font> <font color=orange>curvabilis</font> <font color=orange>sp.</font> <font color=orange>nov.</font> is one of the most abundant species in the <font color=blue>late</font> <font color=blue>Burdigalian</font> reef , forming extensive sheet-like colonies , which typically cover more substrate space than other species ."
      ],
      "text/plain": [
       "<IPython.core.display.HTML object>"
      ]
     },
     "metadata": {},
     "output_type": "display_data"
    },
    {
     "data": {
      "text/html": [
       "Tilbrook ( 2006 ) noted the presence of several species of <font color=orange>Reptadeonella</font> ( e.g. , <font color=orange>R.</font> <font color=orange>fissa</font> ( Hincks , 1880 ) , R. falciformis Tilbrook , 2006 , R. joloensis Bassler , 1936 , R. novissima Tilbrook , 2006 , <font color=orange>R.</font> <font color=orange>phelleaphila</font> <font color=red>Tilbrook</font> , 2006 , and <font color=orange>R.</font> <font color=orange>sicilis</font> <font color=red>Tilbrook</font> , 2006 ) , in <font color=blue>the</font> <font color=blue>Recent</font> <font color=red>Indo-West</font> <font color=red>Pacific</font> with sickle-shaped avicularia , differing from one another in the size , position and orientation of these large avicularia ."
      ],
      "text/plain": [
       "<IPython.core.display.HTML object>"
      ]
     },
     "metadata": {},
     "output_type": "display_data"
    },
    {
     "name": "stdout",
     "output_type": "stream",
     "text": [
      "=== -- === -- === -- === -- === -- === -- ===\n"
     ]
    },
    {
     "data": {
      "text/html": [
       "Tilbrook ( 2006 ) noted the presence of several species of <font color=orange>Reptadeonella</font> ( e.g. , <font color=orange>R.</font> <font color=orange>fissa</font> ( Hincks , 1880 ) , R. falciformis Tilbrook , 2006 , R. joloensis Bassler , 1936 , R. novissima Tilbrook , 2006 , <font color=orange>R.</font> <font color=orange>phelleaphila</font> <font color=red>Tilbrook</font> , 2006 , and <font color=orange>R.</font> <font color=orange>sicilis</font> <font color=red>Tilbrook</font> , 2006 ) , in <font color=blue>the</font> <font color=blue>Recent</font> <font color=red>Indo-West</font> <font color=red>Pacific</font> with sickle-shaped avicularia , differing from one another in the size , position and orientation of these large avicularia ."
      ],
      "text/plain": [
       "<IPython.core.display.HTML object>"
      ]
     },
     "metadata": {},
     "output_type": "display_data"
    },
    {
     "data": {
      "text/html": [
       "<font color=orange>Reptadeonella</font> <font color=orange>curvabilis</font> <font color=orange>sp.</font> <font color=orange>nov.</font> is similar to <font color=orange>R.</font> <font color=orange>fissa</font> in the size of autozooids and in having only one set of pores plus accessory pores surrounding the avicularian cystid , while it differs in having smaller sickle-shaped avicularia affecting the shape of the orifice itself ."
      ],
      "text/plain": [
       "<IPython.core.display.HTML object>"
      ]
     },
     "metadata": {},
     "output_type": "display_data"
    },
    {
     "name": "stdout",
     "output_type": "stream",
     "text": [
      "=== -- === -- === -- === -- === -- === -- ===\n"
     ]
    },
    {
     "data": {
      "text/html": [
       "Family Tessaradomidae Jullien , 1903 Genus <font color=orange>Sendinopora</font> gen. nov ."
      ],
      "text/plain": [
       "<IPython.core.display.HTML object>"
      ]
     },
     "metadata": {},
     "output_type": "display_data"
    },
    {
     "data": {
      "text/html": [
       "Type species – <font color=orange>Sendinopora</font> <font color=orange>prima</font> <font color=orange>sp.</font> <font color=orange>nov.</font> , <font color=blue>Serravallian</font> , <font color=red>East</font> <font color=red>Kalimantan</font> , <font color=red>Indonesia</font> ."
      ],
      "text/plain": [
       "<IPython.core.display.HTML object>"
      ]
     },
     "metadata": {},
     "output_type": "display_data"
    },
    {
     "name": "stdout",
     "output_type": "stream",
     "text": [
      "=== -- === -- === -- === -- === -- === -- ===\n"
     ]
    },
    {
     "data": {
      "text/html": [
       "Type species – <font color=orange>Sendinopora</font> <font color=orange>prima</font> <font color=orange>sp.</font> <font color=orange>nov.</font> , <font color=blue>Serravallian</font> , <font color=red>East</font> <font color=red>Kalimantan</font> , <font color=red>Indonesia</font> ."
      ],
      "text/plain": [
       "<IPython.core.display.HTML object>"
      ]
     },
     "metadata": {},
     "output_type": "display_data"
    },
    {
     "data": {
      "text/html": [
       "Etymology – Named after Consuelo Sendino , fossil bryozoan curator at the NHMUK ."
      ],
      "text/plain": [
       "<IPython.core.display.HTML object>"
      ]
     },
     "metadata": {},
     "output_type": "display_data"
    },
    {
     "name": "stdout",
     "output_type": "stream",
     "text": [
      "=== -- === -- === -- === -- === -- === -- ===\n"
     ]
    },
    {
     "data": {
      "text/html": [
       "Species of <font color=orange>Pleurocodonellina</font> are distinguished by the shape of the orificial sinus and lateral condyles , the shape and orientation of the 24 Di Martino & Taylor ."
      ],
      "text/plain": [
       "<IPython.core.display.HTML object>"
      ]
     },
     "metadata": {},
     "output_type": "display_data"
    },
    {
     "data": {
      "text/html": [
       "<font color=blue>Miocene</font> Bryozoa from <font color=red>East</font> <font color=red>Kalimantan</font> ( Part II ) ."
      ],
      "text/plain": [
       "<IPython.core.display.HTML object>"
      ]
     },
     "metadata": {},
     "output_type": "display_data"
    },
    {
     "name": "stdout",
     "output_type": "stream",
     "text": [
      "=== -- === -- === -- === -- === -- === -- ===\n"
     ]
    },
    {
     "data": {
      "text/html": [
       "Remarks – A single small colony of <font color=orange>Smittina</font> <font color=orange>sp.</font> has been discovered on a <font color=blue>late</font> <font color=blue>Burdigalian</font> platy coral ."
      ],
      "text/plain": [
       "<IPython.core.display.HTML object>"
      ]
     },
     "metadata": {},
     "output_type": "display_data"
    },
    {
     "data": {
      "text/html": [
       "Two species of this genus have been previously described from <font color=blue>the</font> <font color=blue>Recent</font> of <font color=red>Indonesia</font> , <font color=orange>S.</font> <font color=orange>abyssicola</font> ( Harmer , 1957 ) and ?"
      ],
      "text/plain": [
       "<IPython.core.display.HTML object>"
      ]
     },
     "metadata": {},
     "output_type": "display_data"
    },
    {
     "name": "stdout",
     "output_type": "stream",
     "text": [
      "=== -- === -- === -- === -- === -- === -- ===\n"
     ]
    },
    {
     "data": {
      "text/html": [
       "Two species of this genus have been previously described from <font color=blue>the</font> <font color=blue>Recent</font> of <font color=red>Indonesia</font> , <font color=orange>S.</font> <font color=orange>abyssicola</font> ( Harmer , 1957 ) and ?"
      ],
      "text/plain": [
       "<IPython.core.display.HTML object>"
      ]
     },
     "metadata": {},
     "output_type": "display_data"
    },
    {
     "data": {
      "text/html": [
       "<font color=orange>S.</font> <font color=orange>exclusa</font> ( Harmer , 1957 ) ."
      ],
      "text/plain": [
       "<IPython.core.display.HTML object>"
      ]
     },
     "metadata": {},
     "output_type": "display_data"
    },
    {
     "name": "stdout",
     "output_type": "stream",
     "text": [
      "=== -- === -- === -- === -- === -- === -- ===\n"
     ]
    },
    {
     "data": {
      "text/html": [
       "<font color=blue>Miocene</font> Bryozoa from <font color=red>East</font> <font color=red>Kalimantan</font> ( Part II ) ."
      ],
      "text/plain": [
       "<IPython.core.display.HTML object>"
      ]
     },
     "metadata": {},
     "output_type": "display_data"
    },
    {
     "data": {
      "text/html": [
       "Scripta Geol. , 148 ( 2015 ) 25 Genus Smittoidea Osburn , 1952 <font color=orange>Smittoidea</font> <font color=orange>cf.</font> <font color=orange>pacifica</font> Soule & Soule , 1973 Pl. 21 ."
      ],
      "text/plain": [
       "<IPython.core.display.HTML object>"
      ]
     },
     "metadata": {},
     "output_type": "display_data"
    },
    {
     "name": "stdout",
     "output_type": "stream",
     "text": [
      "=== -- === -- === -- === -- === -- === -- ===\n"
     ]
    },
    {
     "data": {
      "text/html": [
       "<font color=blue>Miocene</font> Bryozoa from <font color=red>East</font> <font color=red>Kalimantan</font> ( Part II ) ."
      ],
      "text/plain": [
       "<IPython.core.display.HTML object>"
      ]
     },
     "metadata": {},
     "output_type": "display_data"
    },
    {
     "data": {
      "text/html": [
       "Scripta Geol. , 148 ( 2015 ) Superfamily Schizoporelloidea Jullien , 1883 Family Schizoporellidae Jullien , 1883 Genus <font color=orange>Stylopoma</font> Levinsen , 1909 <font color=orange>Stylopoma</font> <font color=orange>sp.</font> 1 Pl. 22 ."
      ],
      "text/plain": [
       "<IPython.core.display.HTML object>"
      ]
     },
     "metadata": {},
     "output_type": "display_data"
    },
    {
     "name": "stdout",
     "output_type": "stream",
     "text": [
      "=== -- === -- === -- === -- === -- === -- ===\n"
     ]
    },
    {
     "data": {
      "text/html": [
       "The genus <font color=orange>Stylopoma</font> has a pantropical distribution in shallow , generally reefal habitats ."
      ],
      "text/plain": [
       "<IPython.core.display.HTML object>"
      ]
     },
     "metadata": {},
     "output_type": "display_data"
    },
    {
     "data": {
      "text/html": [
       "Tilbrook ( 2001 ) described and illustrated twenty-one <font color=blue>Recent</font> species of <font color=orange>Stylopoma</font> from the <font color=red>Indo-West</font> <font color=red>Pacific</font> and indicated a number of criteria that can be used to distinguish between the individual species ."
      ],
      "text/plain": [
       "<IPython.core.display.HTML object>"
      ]
     },
     "metadata": {},
     "output_type": "display_data"
    },
    {
     "name": "stdout",
     "output_type": "stream",
     "text": [
      "=== -- === -- === -- === -- === -- === -- ===\n"
     ]
    },
    {
     "data": {
      "text/html": [
       "Tilbrook ( 2001 ) described and illustrated twenty-one <font color=blue>Recent</font> species of <font color=orange>Stylopoma</font> from the <font color=red>Indo-West</font> <font color=red>Pacific</font> and indicated a number of criteria that can be used to distinguish between the individual species ."
      ],
      "text/plain": [
       "<IPython.core.display.HTML object>"
      ]
     },
     "metadata": {},
     "output_type": "display_data"
    },
    {
     "data": {
      "text/html": [
       "The poor preservation of the Kalimantan specimen prevents the observation of some of these diagnostic features such as the ancestrular complex and ooecium aperture ."
      ],
      "text/plain": [
       "<IPython.core.display.HTML object>"
      ]
     },
     "metadata": {},
     "output_type": "display_data"
    },
    {
     "name": "stdout",
     "output_type": "stream",
     "text": [
      "=== -- === -- === -- === -- === -- === -- ===\n"
     ]
    },
    {
     "data": {
      "text/html": [
       "It differs from <font color=orange>Stylopoma</font> <font color=orange>sp.</font> 1 in having larger zooids with larger pseudopores , distinct areolar pores , a much larger sinus and paired falciform avicularia distomedially directed ."
      ],
      "text/plain": [
       "<IPython.core.display.HTML object>"
      ]
     },
     "metadata": {},
     "output_type": "display_data"
    },
    {
     "data": {
      "text/html": [
       "Similarly shaped adventitious avicularia , though single and distally directed , have been described in <font color=blue>Recent</font> <font color=orange>Stylopoma</font> <font color=orange>falcifera</font> ( Canu & Bassler , 1928 ) from the <font color=red>Caribbean</font> ."
      ],
      "text/plain": [
       "<IPython.core.display.HTML object>"
      ]
     },
     "metadata": {},
     "output_type": "display_data"
    },
    {
     "name": "stdout",
     "output_type": "stream",
     "text": [
      "=== -- === -- === -- === -- === -- === -- ===\n"
     ]
    },
    {
     "data": {
      "text/html": [
       "Similarly shaped adventitious avicularia , though single and distally directed , have been described in <font color=blue>Recent</font> <font color=orange>Stylopoma</font> <font color=orange>falcifera</font> ( Canu & Bassler , 1928 ) from the <font color=red>Caribbean</font> ."
      ],
      "text/plain": [
       "<IPython.core.display.HTML object>"
      ]
     },
     "metadata": {},
     "output_type": "display_data"
    },
    {
     "data": {
      "text/html": [
       "However , the lack of vicarious avicularia and the scarcity of available material prevent any further comparisons as well as the introduction of a new species ."
      ],
      "text/plain": [
       "<IPython.core.display.HTML object>"
      ]
     },
     "metadata": {},
     "output_type": "display_data"
    },
    {
     "name": "stdout",
     "output_type": "stream",
     "text": [
      "=== -- === -- === -- === -- === -- === -- ===\n"
     ]
    },
    {
     "data": {
      "text/html": [
       "In <font color=blue>Messinian</font> <font color=orange>Stylopoma</font> <font color=orange>sp.</font> 3 adventitious avicularia are single , oval , and distolaterally directed , whereas in <font color=blue>Serravallian</font> S. sp. 1 they are teardrop-shaped with an acute rostrum directed medially , and in <font color=blue>early</font> <font color=blue>Tortonian</font> S. sp. 2 they are paired , triangular or falciform and directed distomedially ."
      ],
      "text/plain": [
       "<IPython.core.display.HTML object>"
      ]
     },
     "metadata": {},
     "output_type": "display_data"
    },
    {
     "data": {
      "text/html": [
       "The general appearance of <font color=orange>Stylopoma</font> <font color=orange>sp.</font> 3 resembles <font color=blue>Recent</font> <font color=orange>S.</font> <font color=orange>consobrina</font> <font color=red>Tilbrook</font> , 2006 , from the <font color=red>Solomon</font> <font color=red>Islands</font> ."
      ],
      "text/plain": [
       "<IPython.core.display.HTML object>"
      ]
     },
     "metadata": {},
     "output_type": "display_data"
    },
    {
     "name": "stdout",
     "output_type": "stream",
     "text": [
      "=== -- === -- === -- === -- === -- === -- ===\n"
     ]
    },
    {
     "data": {
      "text/html": [
       "The general appearance of <font color=orange>Stylopoma</font> <font color=orange>sp.</font> 3 resembles <font color=blue>Recent</font> <font color=orange>S.</font> <font color=orange>consobrina</font> <font color=red>Tilbrook</font> , 2006 , from the <font color=red>Solomon</font> <font color=red>Islands</font> ."
      ],
      "text/plain": [
       "<IPython.core.display.HTML object>"
      ]
     },
     "metadata": {},
     "output_type": "display_data"
    },
    {
     "data": {
      "text/html": [
       "Family Margarettidae Harmer , 1957 Genus Margaretta Gray , 1843 <font color=orange>Margaretta</font> <font color=orange>aff.</font> <font color=orange>gracilior</font> ( Ortmann , 1892 ) Pl. 25 , fig. 1a-d ."
      ],
      "text/plain": [
       "<IPython.core.display.HTML object>"
      ]
     },
     "metadata": {},
     "output_type": "display_data"
    },
    {
     "name": "stdout",
     "output_type": "stream",
     "text": [
      "=== -- === -- === -- === -- === -- === -- ===\n"
     ]
    },
    {
     "data": {
      "text/html": [
       "In addition , Tilbrook ( 2006 ) described a new species from <font color=red>Solomon</font> <font color=red>Islands</font> , <font color=orange>M.</font> <font color=orange>longicollis</font> ."
      ],
      "text/plain": [
       "<IPython.core.display.HTML object>"
      ]
     },
     "metadata": {},
     "output_type": "display_data"
    },
    {
     "data": {
      "text/html": [
       "Three <font color=blue>Cenozoic</font> species have been also described from <font color=red>India</font> , <font color=orange>M.</font> <font color=orange>turgida</font> ( Tewari & Srivastava , 1967 ) from the <font color=blue>Eocene</font> , and <font color=orange>M.</font> <font color=orange>fusiformis</font> Guha & Gopikrishna , 2007 , and <font color=orange>M.</font> <font color=orange>rajui</font> Guha & Gopikrishna , 2007 , from the <font color=blue>Miocene</font> ."
      ],
      "text/plain": [
       "<IPython.core.display.HTML object>"
      ]
     },
     "metadata": {},
     "output_type": "display_data"
    },
    {
     "name": "stdout",
     "output_type": "stream",
     "text": [
      "=== -- === -- === -- === -- === -- === -- ===\n"
     ]
    },
    {
     "data": {
      "text/html": [
       "Three <font color=blue>Cenozoic</font> species have been also described from <font color=red>India</font> , <font color=orange>M.</font> <font color=orange>turgida</font> ( Tewari & Srivastava , 1967 ) from the <font color=blue>Eocene</font> , and <font color=orange>M.</font> <font color=orange>fusiformis</font> Guha & Gopikrishna , 2007 , and <font color=orange>M.</font> <font color=orange>rajui</font> Guha & Gopikrishna , 2007 , from the <font color=blue>Miocene</font> ."
      ],
      "text/plain": [
       "<IPython.core.display.HTML object>"
      ]
     },
     "metadata": {},
     "output_type": "display_data"
    },
    {
     "data": {
      "text/html": [
       "Species of <font color=orange>Margaretta</font> are distinguished using characters including the number of autozooids in a whorl , the number of articulation tubes , peristome morphology , the position of the ascopore , and the shape of pores in the frontal shield ."
      ],
      "text/plain": [
       "<IPython.core.display.HTML object>"
      ]
     },
     "metadata": {},
     "output_type": "display_data"
    },
    {
     "name": "stdout",
     "output_type": "stream",
     "text": [
      "=== -- === -- === -- === -- === -- === -- ===\n"
     ]
    },
    {
     "data": {
      "text/html": [
       "<font color=blue>Miocene</font> Bryozoa from <font color=red>East</font> <font color=red>Kalimantan</font> ( Part II ) ."
      ],
      "text/plain": [
       "<IPython.core.display.HTML object>"
      ]
     },
     "metadata": {},
     "output_type": "display_data"
    },
    {
     "data": {
      "text/html": [
       "Scripta Geol. , 148 ( 2015 ) 29 <font color=orange>Margaretta</font> have been found in samples from <font color=red>Kalimantan</font> , two in the <font color=blue>late</font> <font color=blue>Burdigalian</font> , <font color=orange>M.</font> <font color=orange>aff.</font> <font color=orange>gracilior</font> and <font color=orange>M.</font> <font color=orange>aff.</font> <font color=orange>tenuis</font> , one new species , <font color=orange>M.</font> <font color=orange>amitabhae</font> <font color=orange>sp.</font> <font color=orange>nov.</font> , extending from the <font color=red>Burdigalian-Langhian</font> boundary to the <font color=blue>Serravallian</font> , and <font color=orange>M.</font> <font color=orange>aff.</font> <font color=orange>watersi</font> in <font color=blue>Serravallian</font> ."
      ],
      "text/plain": [
       "<IPython.core.display.HTML object>"
      ]
     },
     "metadata": {},
     "output_type": "display_data"
    },
    {
     "name": "stdout",
     "output_type": "stream",
     "text": [
      "=== -- === -- === -- === -- === -- === -- ===\n"
     ]
    },
    {
     "data": {
      "text/html": [
       "Scripta Geol. , 148 ( 2015 ) 29 <font color=orange>Margaretta</font> have been found in samples from <font color=red>Kalimantan</font> , two in the <font color=blue>late</font> <font color=blue>Burdigalian</font> , <font color=orange>M.</font> <font color=orange>aff.</font> <font color=orange>gracilior</font> and <font color=orange>M.</font> <font color=orange>aff.</font> <font color=orange>tenuis</font> , one new species , <font color=orange>M.</font> <font color=orange>amitabhae</font> <font color=orange>sp.</font> <font color=orange>nov.</font> , extending from the <font color=red>Burdigalian-Langhian</font> boundary to the <font color=blue>Serravallian</font> , and <font color=orange>M.</font> <font color=orange>aff.</font> <font color=orange>watersi</font> in <font color=blue>Serravallian</font> ."
      ],
      "text/plain": [
       "<IPython.core.display.HTML object>"
      ]
     },
     "metadata": {},
     "output_type": "display_data"
    },
    {
     "data": {
      "text/html": [
       "<font color=orange>M.</font> <font color=orange>aff.</font> <font color=orange>gracilior</font> is similar to the nominal species , as described by Harmer ( 1957 ) and Tilbrook ( 2006 ) , in the size of internodes and autozooids , in having two autozooids in a whorl with short inclined peristomes and indistinct lateral walls , a disto-medial ascopore rimmed distally and laterally , and a frontal shield regularly perforated by small , sunken pores ."
      ],
      "text/plain": [
       "<IPython.core.display.HTML object>"
      ]
     },
     "metadata": {},
     "output_type": "display_data"
    },
    {
     "name": "stdout",
     "output_type": "stream",
     "text": [
      "=== -- === -- === -- === -- === -- === -- ===\n"
     ]
    },
    {
     "data": {
      "text/html": [
       "<font color=blue>Miocene</font> Bryozoa from <font color=red>East</font> <font color=red>Kalimantan</font> ( Part II ) ."
      ],
      "text/plain": [
       "<IPython.core.display.HTML object>"
      ]
     },
     "metadata": {},
     "output_type": "display_data"
    },
    {
     "data": {
      "text/html": [
       "Scripta Geol. , 148 ( 2015 ) <font color=orange>Margaretta</font> <font color=orange>aff.</font> <font color=orange>watersi</font> ( Canu & Bassler , 1930 ) Pl. 26 , fig. 1a-d ."
      ],
      "text/plain": [
       "<IPython.core.display.HTML object>"
      ]
     },
     "metadata": {},
     "output_type": "display_data"
    },
    {
     "name": "stdout",
     "output_type": "stream",
     "text": [
      "=== -- === -- === -- === -- === -- === -- ===\n"
     ]
    },
    {
     "data": {
      "text/html": [
       "Measurements – ZL 1026 ± 66 , 958-1124 ( 15 , 30 ) ; ZW 492 ± 32 , 453-530 ( 15 , 30 ) ."
      ],
      "text/plain": [
       "<IPython.core.display.HTML object>"
      ]
     },
     "metadata": {},
     "output_type": "display_data"
    },
    {
     "data": {
      "text/html": [
       "Remarks – Disarticulated internodes of <font color=orange>Margaretta</font> <font color=orange>amitabhae</font> <font color=orange>sp.</font> <font color=orange>nov.</font> have been found in <font color=red>Burdigalian-Langhian</font> and <font color=blue>Serravallian</font> sediments ."
      ],
      "text/plain": [
       "<IPython.core.display.HTML object>"
      ]
     },
     "metadata": {},
     "output_type": "display_data"
    },
    {
     "name": "stdout",
     "output_type": "stream",
     "text": [
      "=== -- === -- === -- === -- === -- === -- ===\n"
     ]
    },
    {
     "data": {
      "text/html": [
       "Remarks – Disarticulated internodes of <font color=orange>Margaretta</font> <font color=orange>amitabhae</font> <font color=orange>sp.</font> <font color=orange>nov.</font> have been found in <font color=red>Burdigalian-Langhian</font> and <font color=blue>Serravallian</font> sediments ."
      ],
      "text/plain": [
       "<IPython.core.display.HTML object>"
      ]
     },
     "metadata": {},
     "output_type": "display_data"
    },
    {
     "data": {
      "text/html": [
       "The shape and arrangement of the internodes is very peculiar and distinguishes this species from all known <font color=blue>Recent</font> and fossil species of <font color=orange>Margaretta</font> ."
      ],
      "text/plain": [
       "<IPython.core.display.HTML object>"
      ]
     },
     "metadata": {},
     "output_type": "display_data"
    },
    {
     "name": "stdout",
     "output_type": "stream",
     "text": [
      "=== -- === -- === -- === -- === -- === -- ===\n"
     ]
    },
    {
     "data": {
      "text/html": [
       "The shape and arrangement of the internodes is very peculiar and distinguishes this species from all known <font color=blue>Recent</font> and fossil species of <font color=orange>Margaretta</font> ."
      ],
      "text/plain": [
       "<IPython.core.display.HTML object>"
      ]
     },
     "metadata": {},
     "output_type": "display_data"
    },
    {
     "data": {
      "text/html": [
       "However , specimens similar to the Kalimantan species have been found also in samples from the <font color=blue>Miocene</font> of <font color=red>Tanzania</font> ( B. Berning , research in progress ) ."
      ],
      "text/plain": [
       "<IPython.core.display.HTML object>"
      ]
     },
     "metadata": {},
     "output_type": "display_data"
    },
    {
     "name": "stdout",
     "output_type": "stream",
     "text": [
      "=== -- === -- === -- === -- === -- === -- ===\n"
     ]
    },
    {
     "data": {
      "text/html": [
       "However , specimens similar to the Kalimantan species have been found also in samples from the <font color=blue>Miocene</font> of <font color=red>Tanzania</font> ( B. Berning , research in progress ) ."
      ],
      "text/plain": [
       "<IPython.core.display.HTML object>"
      ]
     },
     "metadata": {},
     "output_type": "display_data"
    },
    {
     "data": {
      "text/html": [
       "Family Hippopodinidae Levinsen , 1909 Genus Hippopodina Levinsen , 1909 <font color=orange>Hippopodina</font> <font color=orange>feegeensis</font> ( Busk , 1884 ) Pl. 27 ."
      ],
      "text/plain": [
       "<IPython.core.display.HTML object>"
      ]
     },
     "metadata": {},
     "output_type": "display_data"
    },
    {
     "name": "stdout",
     "output_type": "stream",
     "text": [
      "=== -- === -- === -- === -- === -- === -- ===\n"
     ]
    },
    {
     "data": {
      "text/html": [
       "Remarks – <font color=orange>Hippopodina</font> <font color=orange>feegeensis</font> is common and abundant in all of the <font color=blue>Serravallian</font> and <font color=blue>Tortonian</font> samples , where it has been found encrusting extensively the undersides of platy corals ."
      ],
      "text/plain": [
       "<IPython.core.display.HTML object>"
      ]
     },
     "metadata": {},
     "output_type": "display_data"
    },
    {
     "data": {
      "text/html": [
       "At the present day <font color=orange>H.</font> <font color=orange>feegeensis</font> has a circumtropical distribution in warm shallow waters within the 21 ˚C surface water isotherm , forming very broad encrusting sheets on all kinds of substrates , often occurring on coral rubble ( <font color=red>Tilbrook</font> , 1999 ) ."
      ],
      "text/plain": [
       "<IPython.core.display.HTML object>"
      ]
     },
     "metadata": {},
     "output_type": "display_data"
    },
    {
     "name": "stdout",
     "output_type": "stream",
     "text": [
      "=== -- === -- === -- === -- === -- === -- ===\n"
     ]
    },
    {
     "data": {
      "text/html": [
       "Furthermore , the fossil specimens show generally smaller autozooids ( 0.81 × 0.62 mm ) than material from <font color=blue>the</font> <font color=blue>Recent</font> of the <font color=red>Philippines</font> ( 0.98 × 0.62 mm ) , <font color=red>Australia</font> ( 1.01 × 0.63 mm ) , <font color=red>Fiji</font> ( 0.98 × 0.58 mm ) and the Red Sea ( 1.07 × 0.73 mm ) ( Tilbrook , 1999 ) ."
      ],
      "text/plain": [
       "<IPython.core.display.HTML object>"
      ]
     },
     "metadata": {},
     "output_type": "display_data"
    },
    {
     "data": {
      "text/html": [
       "<font color=orange>Hippopodina</font> <font color=orange>cf.</font> <font color=orange>pulcherrima</font> ( Canu & Bassler , 1928 ) Pl. 28 ."
      ],
      "text/plain": [
       "<IPython.core.display.HTML object>"
      ]
     },
     "metadata": {},
     "output_type": "display_data"
    },
    {
     "name": "stdout",
     "output_type": "stream",
     "text": [
      "=== -- === -- === -- === -- === -- === -- ===\n"
     ]
    },
    {
     "data": {
      "text/html": [
       "At the present day <font color=orange>H.</font> <font color=orange>pulcherrima</font> has been described Di Martino & Taylor ."
      ],
      "text/plain": [
       "<IPython.core.display.HTML object>"
      ]
     },
     "metadata": {},
     "output_type": "display_data"
    },
    {
     "data": {
      "text/html": [
       "<font color=blue>Miocene</font> Bryozoa from <font color=red>East</font> <font color=red>Kalimantan</font> ( Part II ) ."
      ],
      "text/plain": [
       "<IPython.core.display.HTML object>"
      ]
     },
     "metadata": {},
     "output_type": "display_data"
    },
    {
     "name": "stdout",
     "output_type": "stream",
     "text": [
      "=== -- === -- === -- === -- === -- === -- ===\n"
     ]
    },
    {
     "data": {
      "text/html": [
       "It differs from the Kalimantan species assigned to <font color=orange>Hippopodina</font> <font color=orange>feegeensis</font> and <font color=orange>H.</font> <font color=orange>cf.</font> <font color=orange>pulcherrima</font> in having the frontal shield perforated by fewer and much larger pores , and adventitious avicularia positioned more proximolaterally compared to the former species and distomedially rather than proximomedially directed as in the latter species ."
      ],
      "text/plain": [
       "<IPython.core.display.HTML object>"
      ]
     },
     "metadata": {},
     "output_type": "display_data"
    },
    {
     "data": {
      "text/html": [
       "It also differs from <font color=blue>Recent</font> <font color=orange>H.</font> <font color=orange>pectoralis</font> Harmer , 1957 , from the <font color=red>Celebes</font> <font color=red>Sea</font> and from the French <font color=blue>Miocene</font> species <font color=orange>H.</font> <font color=orange>lappi</font> David , 1965 , in having adventitious avicularia , and from the Spanish <font color=blue>Pliocene</font> species <font color=orange>H.</font> <font color=orange>iberica</font> Pouyet , 1976 , in having the frontal shield perforated by large circular pores , not polygonal , and in the number , position and size of the adventitious avicularia which are always paired , small and distally placed in <font color=orange>H.</font> <font color=orange>iberica</font> ."
      ],
      "text/plain": [
       "<IPython.core.display.HTML object>"
      ]
     },
     "metadata": {},
     "output_type": "display_data"
    },
    {
     "name": "stdout",
     "output_type": "stream",
     "text": [
      "=== -- === -- === -- === -- === -- === -- ===\n"
     ]
    },
    {
     "data": {
      "text/html": [
       "It also differs from <font color=blue>Recent</font> <font color=orange>H.</font> <font color=orange>pectoralis</font> Harmer , 1957 , from the <font color=red>Celebes</font> <font color=red>Sea</font> and from the French <font color=blue>Miocene</font> species <font color=orange>H.</font> <font color=orange>lappi</font> David , 1965 , in having adventitious avicularia , and from the Spanish <font color=blue>Pliocene</font> species <font color=orange>H.</font> <font color=orange>iberica</font> Pouyet , 1976 , in having the frontal shield perforated by large circular pores , not polygonal , and in the number , position and size of the adventitious avicularia which are always paired , small and distally placed in <font color=orange>H.</font> <font color=orange>iberica</font> ."
      ],
      "text/plain": [
       "<IPython.core.display.HTML object>"
      ]
     },
     "metadata": {},
     "output_type": "display_data"
    },
    {
     "data": {
      "text/html": [
       "34 Di Martino & Taylor ."
      ],
      "text/plain": [
       "<IPython.core.display.HTML object>"
      ]
     },
     "metadata": {},
     "output_type": "display_data"
    },
    {
     "name": "stdout",
     "output_type": "stream",
     "text": [
      "=== -- === -- === -- === -- === -- === -- ===\n"
     ]
    },
    {
     "data": {
      "text/html": [
       "<font color=blue>Miocene</font> Bryozoa from <font color=red>East</font> <font color=red>Kalimantan</font> ( Part II ) ."
      ],
      "text/plain": [
       "<IPython.core.display.HTML object>"
      ]
     },
     "metadata": {},
     "output_type": "display_data"
    },
    {
     "data": {
      "text/html": [
       "Scripta Geol. , 148 ( 2015 ) Genus <font color=orange>Saevitella</font> Bobies , 1956 <font color=orange>Saevitella</font> <font color=orange>renemai</font> <font color=orange>sp.</font> <font color=orange>nov</font> ."
      ],
      "text/plain": [
       "<IPython.core.display.HTML object>"
      ]
     },
     "metadata": {},
     "output_type": "display_data"
    },
    {
     "name": "stdout",
     "output_type": "stream",
     "text": [
      "=== -- === -- === -- === -- === -- === -- ===\n"
     ]
    },
    {
     "data": {
      "text/html": [
       "The Kalimantan species differs from coeval European <font color=orange>S.</font> <font color=orange>inermis</font> Bobies , 1956 , in lacking a wide non-porous lip around the orifice , and in having much more numerous and smaller pores perforating the frontal shield ."
      ],
      "text/plain": [
       "<IPython.core.display.HTML object>"
      ]
     },
     "metadata": {},
     "output_type": "display_data"
    },
    {
     "data": {
      "text/html": [
       "<font color=blue>Recent</font> <font color=orange>S.</font> <font color=orange>peristomata</font> ( Waters , 1899 ) from <font color=red>Madeira</font> is characterized by a raised peristome absent in the Kalimantan species ."
      ],
      "text/plain": [
       "<IPython.core.display.HTML object>"
      ]
     },
     "metadata": {},
     "output_type": "display_data"
    },
    {
     "name": "stdout",
     "output_type": "stream",
     "text": [
      "=== -- === -- === -- === -- === -- === -- ===\n"
     ]
    },
    {
     "data": {
      "text/html": [
       "<font color=blue>Recent</font> <font color=orange>S.</font> <font color=orange>peristomata</font> ( Waters , 1899 ) from <font color=red>Madeira</font> is characterized by a raised peristome absent in the Kalimantan species ."
      ],
      "text/plain": [
       "<IPython.core.display.HTML object>"
      ]
     },
     "metadata": {},
     "output_type": "display_data"
    },
    {
     "data": {
      "text/html": [
       "This is the first record of the genus from the <font color=red>Indo-West</font> <font color=red>Pacific</font> region ."
      ],
      "text/plain": [
       "<IPython.core.display.HTML object>"
      ]
     },
     "metadata": {},
     "output_type": "display_data"
    },
    {
     "name": "stdout",
     "output_type": "stream",
     "text": [
      "=== -- === -- === -- === -- === -- === -- ===\n"
     ]
    },
    {
     "data": {
      "text/html": [
       "It was hitherto known only from the <font color=blue>Miocene</font> to <font color=blue>Recent</font> of the <font color=red>Atlanto-Mediterranean</font> region ( cf. Berning , 2012 , for a recent account of the genus and its species ) ."
      ],
      "text/plain": [
       "<IPython.core.display.HTML object>"
      ]
     },
     "metadata": {},
     "output_type": "display_data"
    },
    {
     "data": {
      "text/html": [
       "Genus Thornelya Harmer , 1957 <font color=orange>Thornelya</font> <font color=orange>sp</font> ."
      ],
      "text/plain": [
       "<IPython.core.display.HTML object>"
      ]
     },
     "metadata": {},
     "output_type": "display_data"
    },
    {
     "name": "stdout",
     "output_type": "stream",
     "text": [
      "=== -- === -- === -- === -- === -- === -- ===\n"
     ]
    },
    {
     "data": {
      "text/html": [
       "This species is characterised by the relatively small size of the zooids , the small , irregularly perforate and ridged ooecia , and the small , triangular , medially directed peristomial avicularia ."
      ],
      "text/plain": [
       "<IPython.core.display.HTML object>"
      ]
     },
     "metadata": {},
     "output_type": "display_data"
    },
    {
     "data": {
      "text/html": [
       "Three <font color=blue>Recent</font> species of <font color=orange>Gigantopora</font> have been described or reported by Harmer ( 1957 ) from <font color=red>Indonesia</font> : G. profunda Harmer , 1957 , which mainly differs from <font color=orange>Gigantopora</font> <font color=orange>milenae</font> <font color=orange>sp.</font> <font color=orange>nov.</font> in colony morphology , being erect instead of encrusting ; <font color=orange>G.</font> <font color=orange>pupa</font> ( Jullien & Calvet , 1903 ) , which differs from the Kalimantan species in having much larger zooids ( 1.3 × 0.7 mm vs 0.6 × 0.4 mm ) , a larger ooecium completely encircling the peristome laterally and distally , and rounded instead of pointed tubercles on the frontal shield ; and <font color=orange>G.</font> <font color=orange>spiculifera</font> Canu & Bassler , 1927 , which has a larger , less tuberculate ooecium and characteristic minute frontal tubercles that divide at their ends ."
      ],
      "text/plain": [
       "<IPython.core.display.HTML object>"
      ]
     },
     "metadata": {},
     "output_type": "display_data"
    },
    {
     "name": "stdout",
     "output_type": "stream",
     "text": [
      "=== -- === -- === -- === -- === -- === -- ===\n"
     ]
    },
    {
     "data": {
      "text/html": [
       "Three <font color=blue>Recent</font> species of <font color=orange>Gigantopora</font> have been described or reported by Harmer ( 1957 ) from <font color=red>Indonesia</font> : G. profunda Harmer , 1957 , which mainly differs from <font color=orange>Gigantopora</font> <font color=orange>milenae</font> <font color=orange>sp.</font> <font color=orange>nov.</font> in colony morphology , being erect instead of encrusting ; <font color=orange>G.</font> <font color=orange>pupa</font> ( Jullien & Calvet , 1903 ) , which differs from the Kalimantan species in having much larger zooids ( 1.3 × 0.7 mm vs 0.6 × 0.4 mm ) , a larger ooecium completely encircling the peristome laterally and distally , and rounded instead of pointed tubercles on the frontal shield ; and <font color=orange>G.</font> <font color=orange>spiculifera</font> Canu & Bassler , 1927 , which has a larger , less tuberculate ooecium and characteristic minute frontal tubercles that divide at their ends ."
      ],
      "text/plain": [
       "<IPython.core.display.HTML object>"
      ]
     },
     "metadata": {},
     "output_type": "display_data"
    },
    {
     "data": {
      "text/html": [
       "Fossil occurrences of the genus <font color=orange>Gigantopora</font> are uncommon ."
      ],
      "text/plain": [
       "<IPython.core.display.HTML object>"
      ]
     },
     "metadata": {},
     "output_type": "display_data"
    },
    {
     "name": "stdout",
     "output_type": "stream",
     "text": [
      "=== -- === -- === -- === -- === -- === -- ===\n"
     ]
    },
    {
     "data": {
      "text/html": [
       "Fossil occurrences of the genus <font color=orange>Gigantopora</font> are uncommon ."
      ],
      "text/plain": [
       "<IPython.core.display.HTML object>"
      ]
     },
     "metadata": {},
     "output_type": "display_data"
    },
    {
     "data": {
      "text/html": [
       "Hayward & Winston ( 2011 , p. 2304 ) stated that “ species of <font color=orange>Gigantopora</font> have been described from <font color=blue>Tertiary</font> horizons in <font color=red>New</font> <font color=red>Zealand</font> ” without mentioning the source , but Gordon ( 1984 , p. 79 ) described <font color=orange>Gephyrophora</font> <font color=orange>polymorpha</font> Busk , 1884 , from the <font color=red>Kermadec</font> Ridge , which appears to be an encrusting form of <font color=orange>G.</font> <font color=orange>polymorpha</font> recorded by Brown ( 1952 ) from the <font color=blue>Middle</font> <font color=blue>Oligocene</font> of <font color=red>New</font> <font color=red>Zealand</font> , and which was placed in <font color=orange>Gigantopora</font> by the latter author ."
      ],
      "text/plain": [
       "<IPython.core.display.HTML object>"
      ]
     },
     "metadata": {},
     "output_type": "display_data"
    },
    {
     "name": "stdout",
     "output_type": "stream",
     "text": [
      "=== -- === -- === -- === -- === -- === -- ===\n"
     ]
    },
    {
     "data": {
      "text/html": [
       "Hayward & Winston ( 2011 , p. 2304 ) stated that “ species of <font color=orange>Gigantopora</font> have been described from <font color=blue>Tertiary</font> horizons in <font color=red>New</font> <font color=red>Zealand</font> ” without mentioning the source , but Gordon ( 1984 , p. 79 ) described <font color=orange>Gephyrophora</font> <font color=orange>polymorpha</font> Busk , 1884 , from the <font color=red>Kermadec</font> Ridge , which appears to be an encrusting form of <font color=orange>G.</font> <font color=orange>polymorpha</font> recorded by Brown ( 1952 ) from the <font color=blue>Middle</font> <font color=blue>Oligocene</font> of <font color=red>New</font> <font color=red>Zealand</font> , and which was placed in <font color=orange>Gigantopora</font> by the latter author ."
      ],
      "text/plain": [
       "<IPython.core.display.HTML object>"
      ]
     },
     "metadata": {},
     "output_type": "display_data"
    },
    {
     "data": {
      "text/html": [
       "Di Martino & Taylor ."
      ],
      "text/plain": [
       "<IPython.core.display.HTML object>"
      ]
     },
     "metadata": {},
     "output_type": "display_data"
    },
    {
     "name": "stdout",
     "output_type": "stream",
     "text": [
      "=== -- === -- === -- === -- === -- === -- ===\n"
     ]
    },
    {
     "data": {
      "text/html": [
       "<font color=blue>Miocene</font> Bryozoa from <font color=red>East</font> <font color=red>Kalimantan</font> ( Part II ) ."
      ],
      "text/plain": [
       "<IPython.core.display.HTML object>"
      ]
     },
     "metadata": {},
     "output_type": "display_data"
    },
    {
     "data": {
      "text/html": [
       "Scripta Geol. , 148 ( 2015 ) 37 Family Lanceoporidae Harmer , 1957 Genus Calyptotheca Harmer , 1957 <font color=orange>Calyptotheca</font> <font color=orange>sp.</font> 1 Pl. 33 , fig. 1a-d ."
      ],
      "text/plain": [
       "<IPython.core.display.HTML object>"
      ]
     },
     "metadata": {},
     "output_type": "display_data"
    },
    {
     "name": "stdout",
     "output_type": "stream",
     "text": [
      "=== -- === -- === -- === -- === -- === -- ===\n"
     ]
    },
    {
     "data": {
      "text/html": [
       "This species is characterised by the distribution and size of the frontal pores , which are few in number , but large compared to established species of <font color=orange>Calyptotheca</font> , and by the lack of avicularia ."
      ],
      "text/plain": [
       "<IPython.core.display.HTML object>"
      ]
     },
     "metadata": {},
     "output_type": "display_data"
    },
    {
     "data": {
      "text/html": [
       "The Oligo-Miocene species <font color=orange>C.</font> <font color=orange>subhexagonalis</font> Guha & Gopikrishna , 2007 , and <font color=orange>C.</font> <font color=orange>subrectangulata</font> Guha & Gopikrishna , 2007 , from <font color=red>Gujarat</font> , <font color=red>India</font> , <font color=blue>Recent</font> <font color=orange>C.</font> <font color=orange>suluensis</font> Harmer , 1957 , from the <font color=red>Sulu</font> <font color=red>Archipelago</font> and <font color=orange>C.</font> <font color=orange>rugosa</font> from the <font color=red>Mediterranean</font> also lack avicularia ."
      ],
      "text/plain": [
       "<IPython.core.display.HTML object>"
      ]
     },
     "metadata": {},
     "output_type": "display_data"
    },
    {
     "name": "stdout",
     "output_type": "stream",
     "text": [
      "=== -- === -- === -- === -- === -- === -- ===\n"
     ]
    },
    {
     "data": {
      "text/html": [
       "The Oligo-Miocene species <font color=orange>C.</font> <font color=orange>subhexagonalis</font> Guha & Gopikrishna , 2007 , and <font color=orange>C.</font> <font color=orange>subrectangulata</font> Guha & Gopikrishna , 2007 , from <font color=red>Gujarat</font> , <font color=red>India</font> , <font color=blue>Recent</font> <font color=orange>C.</font> <font color=orange>suluensis</font> Harmer , 1957 , from the <font color=red>Sulu</font> <font color=red>Archipelago</font> and <font color=orange>C.</font> <font color=orange>rugosa</font> from the <font color=red>Mediterranean</font> also lack avicularia ."
      ],
      "text/plain": [
       "<IPython.core.display.HTML object>"
      ]
     },
     "metadata": {},
     "output_type": "display_data"
    },
    {
     "data": {
      "text/html": [
       "However , they all differ from the Kalimantan species in frontal shield porosity ."
      ],
      "text/plain": [
       "<IPython.core.display.HTML object>"
      ]
     },
     "metadata": {},
     "output_type": "display_data"
    },
    {
     "name": "stdout",
     "output_type": "stream",
     "text": [
      "=== -- === -- === -- === -- === -- === -- ===\n"
     ]
    },
    {
     "data": {
      "text/html": [
       "Remarks – Two small colonies , formed by three circlets of zooids , of <font color=orange>Actisecos</font> <font color=orange>sp.</font> 1 have been found in <font color=blue>late</font> <font color=blue>Burdigalian</font> sediments ."
      ],
      "text/plain": [
       "<IPython.core.display.HTML object>"
      ]
     },
     "metadata": {},
     "output_type": "display_data"
    },
    {
     "data": {
      "text/html": [
       "The genus <font color=orange>Actisecos</font> includes two <font color=blue>Recent</font> species characteristic of muddy-sandy sea-bottoms : <font color=orange>A.</font> <font color=orange>pulcher</font> Harmer , 1957 , described from the <font color=red>Makassar</font> <font color=red>Strait</font> and Java Sea at 59-88 m depth , and <font color=orange>A.</font> <font color=orange>regularis</font> Canu & Bassler , 1927 , described originally from the <font color=red>Philippines</font> at 84-104 m depth ."
      ],
      "text/plain": [
       "<IPython.core.display.HTML object>"
      ]
     },
     "metadata": {},
     "output_type": "display_data"
    },
    {
     "name": "stdout",
     "output_type": "stream",
     "text": [
      "=== -- === -- === -- === -- === -- === -- ===\n"
     ]
    },
    {
     "data": {
      "text/html": [
       "The genus <font color=orange>Actisecos</font> includes two <font color=blue>Recent</font> species characteristic of muddy-sandy sea-bottoms : <font color=orange>A.</font> <font color=orange>pulcher</font> Harmer , 1957 , described from the <font color=red>Makassar</font> <font color=red>Strait</font> and Java Sea at 59-88 m depth , and <font color=orange>A.</font> <font color=orange>regularis</font> Canu & Bassler , 1927 , described originally from the <font color=red>Philippines</font> at 84-104 m depth ."
      ],
      "text/plain": [
       "<IPython.core.display.HTML object>"
      ]
     },
     "metadata": {},
     "output_type": "display_data"
    },
    {
     "data": {
      "text/html": [
       "The latter has been reported by Harmer ( 1957 ) from the Java Sea at 82-88 m depth , and by Cook ( 1966 ) from <font color=red>New</font> <font color=red>Guinea</font> and <font color=red>Gulf</font> <font color=red>of</font> <font color=red>Oman</font> at 201 m depth ."
      ],
      "text/plain": [
       "<IPython.core.display.HTML object>"
      ]
     },
     "metadata": {},
     "output_type": "display_data"
    },
    {
     "name": "stdout",
     "output_type": "stream",
     "text": [
      "=== -- === -- === -- === -- === -- === -- ===\n"
     ]
    },
    {
     "data": {
      "text/html": [
       "<font color=blue>Miocene</font> Bryozoa from <font color=red>East</font> <font color=red>Kalimantan</font> ( Part II ) ."
      ],
      "text/plain": [
       "<IPython.core.display.HTML object>"
      ]
     },
     "metadata": {},
     "output_type": "display_data"
    },
    {
     "data": {
      "text/html": [
       "Scripta Geol. , 148 ( 2015 ) 39 <font color=orange>Actisecos</font> <font color=orange>sp.</font> 2 Pl. 35 ."
      ],
      "text/plain": [
       "<IPython.core.display.HTML object>"
      ]
     },
     "metadata": {},
     "output_type": "display_data"
    },
    {
     "name": "stdout",
     "output_type": "stream",
     "text": [
      "=== -- === -- === -- === -- === -- === -- ===\n"
     ]
    },
    {
     "data": {
      "text/html": [
       "The genus <font color=orange>Vix</font> is monotypic , comprising only the 40 Di Martino & Taylor ."
      ],
      "text/plain": [
       "<IPython.core.display.HTML object>"
      ]
     },
     "metadata": {},
     "output_type": "display_data"
    },
    {
     "data": {
      "text/html": [
       "<font color=blue>Miocene</font> Bryozoa from <font color=red>East</font> <font color=red>Kalimantan</font> ( Part II ) ."
      ],
      "text/plain": [
       "<IPython.core.display.HTML object>"
      ]
     },
     "metadata": {},
     "output_type": "display_data"
    },
    {
     "name": "stdout",
     "output_type": "stream",
     "text": [
      "=== -- === -- === -- === -- === -- === -- ===\n"
     ]
    },
    {
     "data": {
      "text/html": [
       "<font color=blue>Miocene</font> Bryozoa from <font color=red>East</font> <font color=red>Kalimantan</font> ( Part II ) ."
      ],
      "text/plain": [
       "<IPython.core.display.HTML object>"
      ]
     },
     "metadata": {},
     "output_type": "display_data"
    },
    {
     "data": {
      "text/html": [
       "Scripta Geol. , 148 ( 2015 ) type species , <font color=orange>V.</font> <font color=orange>vagans</font> ( Thornely , 1912 ) , described as secondary ( reparative ) jointed and basally rooted , from the <font color=red>Seychelles</font> and <font color=red>Amirante</font> <font color=red>Islands</font> at 34-39 fathoms depth ( about 62-71 m ) , and further recorded from east <font color=red>Africa</font> and Zanzibar by Waters ( 1913 ) ."
      ],
      "text/plain": [
       "<IPython.core.display.HTML object>"
      ]
     },
     "metadata": {},
     "output_type": "display_data"
    },
    {
     "name": "stdout",
     "output_type": "stream",
     "text": [
      "=== -- === -- === -- === -- === -- === -- ===\n"
     ]
    },
    {
     "data": {
      "text/html": [
       "However , the preservation of the fossil specimens prevents the observation of the primary orifice and avicularium rostrum , making further comparison difficult ."
      ],
      "text/plain": [
       "<IPython.core.display.HTML object>"
      ]
     },
     "metadata": {},
     "output_type": "display_data"
    },
    {
     "data": {
      "text/html": [
       "The Kalimantan species represents the first fossil record for the genus , although a further , unpublished record of <font color=orange>Vix</font> is in the <font color=blue>Miocene</font> of <font color=red>Tanzania</font> ( B. Berning , research in progress ) ."
      ],
      "text/plain": [
       "<IPython.core.display.HTML object>"
      ]
     },
     "metadata": {},
     "output_type": "display_data"
    },
    {
     "name": "stdout",
     "output_type": "stream",
     "text": [
      "=== -- === -- === -- === -- === -- === -- ===\n"
     ]
    },
    {
     "data": {
      "text/html": [
       "The Kalimantan species represents the first fossil record for the genus , although a further , unpublished record of <font color=orange>Vix</font> is in the <font color=blue>Miocene</font> of <font color=red>Tanzania</font> ( B. Berning , research in progress ) ."
      ],
      "text/plain": [
       "<IPython.core.display.HTML object>"
      ]
     },
     "metadata": {},
     "output_type": "display_data"
    },
    {
     "data": {
      "text/html": [
       "Family Petraliidae Levinsen , 1909 Genus Orbiculipora Guha & Gopikrishna , 2005 <font color=orange>Orbiculipora</font> <font color=orange>sp</font> ."
      ],
      "text/plain": [
       "<IPython.core.display.HTML object>"
      ]
     },
     "metadata": {},
     "output_type": "display_data"
    },
    {
     "name": "stdout",
     "output_type": "stream",
     "text": [
      "=== -- === -- === -- === -- === -- === -- ===\n"
     ]
    },
    {
     "data": {
      "text/html": [
       "Remarks – A few colonies of <font color=orange>Orbiculipora</font> <font color=orange>sp.</font> have been found encrusting the undersides of platy corals from the <font color=blue>late</font> <font color=blue>Burdigalian</font> , often overgrown by encrusting foraminifera ."
      ],
      "text/plain": [
       "<IPython.core.display.HTML object>"
      ]
     },
     "metadata": {},
     "output_type": "display_data"
    },
    {
     "data": {
      "text/html": [
       "The genus <font color=orange>Orbiculipora</font> is monospecific and was introduced for a <font color=blue>Miocene</font> species from <font color=red>Gujarat</font> , <font color=red>India</font> , with orifices of orbicular outline and pseudoporous frontal shields ."
      ],
      "text/plain": [
       "<IPython.core.display.HTML object>"
      ]
     },
     "metadata": {},
     "output_type": "display_data"
    },
    {
     "name": "stdout",
     "output_type": "stream",
     "text": [
      "=== -- === -- === -- === -- === -- === -- ===\n"
     ]
    },
    {
     "data": {
      "text/html": [
       "The genus <font color=orange>Orbiculipora</font> is monospecific and was introduced for a <font color=blue>Miocene</font> species from <font color=red>Gujarat</font> , <font color=red>India</font> , with orifices of orbicular outline and pseudoporous frontal shields ."
      ],
      "text/plain": [
       "<IPython.core.display.HTML object>"
      ]
     },
     "metadata": {},
     "output_type": "display_data"
    },
    {
     "data": {
      "text/html": [
       "The type species , <font color=orange>O.</font> <font color=orange>gigantea</font> Guha & Gopikrishna , 2005 , has rare avicularia placed on the distal peristomial rim and very large , globose ooecia ."
      ],
      "text/plain": [
       "<IPython.core.display.HTML object>"
      ]
     },
     "metadata": {},
     "output_type": "display_data"
    },
    {
     "name": "stdout",
     "output_type": "stream",
     "text": [
      "=== -- === -- === -- === -- === -- === -- ===\n"
     ]
    },
    {
     "data": {
      "text/html": [
       "Unfortunately , the poor preservation of both colonies prevents the observation of diagnostic features such as , for example , the presence of condyles or denticulation on the proximal margin of the primary orifice , and the exact number of oral spine bases ."
      ],
      "text/plain": [
       "<IPython.core.display.HTML object>"
      ]
     },
     "metadata": {},
     "output_type": "display_data"
    },
    {
     "data": {
      "text/html": [
       "Two <font color=blue>Recent</font> species of <font color=orange>Calloporina</font> , <font color=orange>C.</font> <font color=orange>sculpta</font> Canu & Bassler , 1929 , and <font color=orange>C.</font> <font color=orange>sigillata</font> Canu & Bassler , 1929 , originally reported from the <font color=red>Philippines</font> , are known from a number of localities within the Indo-Pacific ( Tilbrook , 2006 ) ."
      ],
      "text/plain": [
       "<IPython.core.display.HTML object>"
      ]
     },
     "metadata": {},
     "output_type": "display_data"
    },
    {
     "name": "stdout",
     "output_type": "stream",
     "text": [
      "=== -- === -- === -- === -- === -- === -- ===\n"
     ]
    },
    {
     "data": {
      "text/html": [
       "Two <font color=blue>Recent</font> species of <font color=orange>Calloporina</font> , <font color=orange>C.</font> <font color=orange>sculpta</font> Canu & Bassler , 1929 , and <font color=orange>C.</font> <font color=orange>sigillata</font> Canu & Bassler , 1929 , originally reported from the <font color=red>Philippines</font> , are known from a number of localities within the Indo-Pacific ( Tilbrook , 2006 ) ."
      ],
      "text/plain": [
       "<IPython.core.display.HTML object>"
      ]
     },
     "metadata": {},
     "output_type": "display_data"
    },
    {
     "data": {
      "text/html": [
       "<font color=orange>C.</font> <font color=orange>sculpta</font> has similar sized autozooids , but differs from the <font color=red>Kalimantan</font> fossil in having much longer avicularia distolaterally directed and a transversely oval ascopore , while in <font color=orange>Calloporina</font> <font color=orange>sp.</font> from <font color=red>Kalimantan</font> the avicularia are distally directed and the ascopore is circular ."
      ],
      "text/plain": [
       "<IPython.core.display.HTML object>"
      ]
     },
     "metadata": {},
     "output_type": "display_data"
    },
    {
     "name": "stdout",
     "output_type": "stream",
     "text": [
      "=== -- === -- === -- === -- === -- === -- ===\n"
     ]
    },
    {
     "data": {
      "text/html": [
       "<font color=blue>Miocene</font> Bryozoa from <font color=red>East</font> <font color=red>Kalimantan</font> ( Part II ) ."
      ],
      "text/plain": [
       "<IPython.core.display.HTML object>"
      ]
     },
     "metadata": {},
     "output_type": "display_data"
    },
    {
     "data": {
      "text/html": [
       "Scripta Geol. , 148 ( 2015 ) Genus <font color=orange>Microporella</font> Hincks , 1877 <font color=orange>Microporella</font> <font color=orange>aff.</font> <font color=orange>browni</font> Harmelin , Ostrovsky , Cáceres-Chamizo & Sanner , 2011 Pl. 39 ."
      ],
      "text/plain": [
       "<IPython.core.display.HTML object>"
      ]
     },
     "metadata": {},
     "output_type": "display_data"
    },
    {
     "name": "stdout",
     "output_type": "stream",
     "text": [
      "=== -- === -- === -- === -- === -- === -- ===\n"
     ]
    },
    {
     "data": {
      "text/html": [
       "Measurements – ZL 471 ± 18 , 437-482 ( 1 , 10 ) ; ZW 361 ± 26 , 319-391 ( 1 , 10 ) ; OL 77 ± 9 , 65-87 ( 1 , 8 ) ; OW 104 ± 4 , 99-108 ( 1 , 8 ) ; OvL 160 ± 10 , 150-170 ( 1 , 3 ) ; OvW 206 ± 17 , 187-217 ( 1 , 3 ) ; AvL 75 ± 3 , 72-79 ( 1 , 10 ) ."
      ],
      "text/plain": [
       "<IPython.core.display.HTML object>"
      ]
     },
     "metadata": {},
     "output_type": "display_data"
    },
    {
     "data": {
      "text/html": [
       "Remarks – Three species of <font color=orange>Microporella</font> , <font color=orange>M.</font> <font color=orange>aff.</font> <font color=orange>browni</font> , <font color=orange>M.</font> <font color=orange>aff.</font> <font color=orange>coronata</font> and M. sp. ( see below ) , occur in the <font color=blue>Miocene</font> of <font color=red>East</font> <font color=red>Kalimantan</font> , but , unfortunately , are represented by a few poorly preserved colonies , all encrusting undersides of platy corals ."
      ],
      "text/plain": [
       "<IPython.core.display.HTML object>"
      ]
     },
     "metadata": {},
     "output_type": "display_data"
    },
    {
     "name": "stdout",
     "output_type": "stream",
     "text": [
      "=== -- === -- === -- === -- === -- === -- ===\n"
     ]
    },
    {
     "data": {
      "text/html": [
       "Remarks – Three species of <font color=orange>Microporella</font> , <font color=orange>M.</font> <font color=orange>aff.</font> <font color=orange>browni</font> , <font color=orange>M.</font> <font color=orange>aff.</font> <font color=orange>coronata</font> and M. sp. ( see below ) , occur in the <font color=blue>Miocene</font> of <font color=red>East</font> <font color=red>Kalimantan</font> , but , unfortunately , are represented by a few poorly preserved colonies , all encrusting undersides of platy corals ."
      ],
      "text/plain": [
       "<IPython.core.display.HTML object>"
      ]
     },
     "metadata": {},
     "output_type": "display_data"
    },
    {
     "data": {
      "text/html": [
       "This genus is one of the most distinctive and speciose <font color=blue>Neogene</font> cheilostomes , with the oldest occurrence dating from the <font color=blue>Early</font> <font color=blue>Miocene</font> of <font color=red>New</font> <font color=red>Zealand</font> and a widespread distribution at the present day ( Taylor & Mawatari , 2005 ) ."
      ],
      "text/plain": [
       "<IPython.core.display.HTML object>"
      ]
     },
     "metadata": {},
     "output_type": "display_data"
    },
    {
     "name": "stdout",
     "output_type": "stream",
     "text": [
      "=== -- === -- === -- === -- === -- === -- ===\n"
     ]
    },
    {
     "data": {
      "text/html": [
       "<font color=blue>Miocene</font> Bryozoa from <font color=red>East</font> <font color=red>Kalimantan</font> ( Part II ) ."
      ],
      "text/plain": [
       "<IPython.core.display.HTML object>"
      ]
     },
     "metadata": {},
     "output_type": "display_data"
    },
    {
     "data": {
      "text/html": [
       "Scripta Geol. , 148 ( 2015 ) 43 Two species of <font color=orange>Microporella</font> have been described from the <font color=blue>Miocene</font> of <font color=red>Gujarat</font> , <font color=red>India</font> , <font color=orange>M.</font> <font color=orange>waghotensis</font> Guha & Gopikrishna , 2007 , and <font color=orange>Microporella</font> <font color=orange>sp.</font> , both differing from the Kalimantan species in having non-personate ooecia and oral spines absent or less numerous ."
      ],
      "text/plain": [
       "<IPython.core.display.HTML object>"
      ]
     },
     "metadata": {},
     "output_type": "display_data"
    },
    {
     "name": "stdout",
     "output_type": "stream",
     "text": [
      "=== -- === -- === -- === -- === -- === -- ===\n"
     ]
    },
    {
     "data": {
      "text/html": [
       "Scripta Geol. , 148 ( 2015 ) 43 Two species of <font color=orange>Microporella</font> have been described from the <font color=blue>Miocene</font> of <font color=red>Gujarat</font> , <font color=red>India</font> , <font color=orange>M.</font> <font color=orange>waghotensis</font> Guha & Gopikrishna , 2007 , and <font color=orange>Microporella</font> <font color=orange>sp.</font> , both differing from the Kalimantan species in having non-personate ooecia and oral spines absent or less numerous ."
      ],
      "text/plain": [
       "<IPython.core.display.HTML object>"
      ]
     },
     "metadata": {},
     "output_type": "display_data"
    },
    {
     "data": {
      "text/html": [
       "Two <font color=blue>Recent</font> species of <font color=orange>Microporella</font> are commonly recorded from the Indonesian Archipelago , <font color=orange>M.</font> <font color=orange>orientalis</font> Harmer , 1957 , and M. harmeri Hayward , 1988 , both with personate ooecia ."
      ],
      "text/plain": [
       "<IPython.core.display.HTML object>"
      ]
     },
     "metadata": {},
     "output_type": "display_data"
    },
    {
     "name": "stdout",
     "output_type": "stream",
     "text": [
      "=== -- === -- === -- === -- === -- === -- ===\n"
     ]
    },
    {
     "data": {
      "text/html": [
       "<font color=blue>Miocene</font> Bryozoa from <font color=red>East</font> <font color=red>Kalimantan</font> ( Part II ) ."
      ],
      "text/plain": [
       "<IPython.core.display.HTML object>"
      ]
     },
     "metadata": {},
     "output_type": "display_data"
    },
    {
     "data": {
      "text/html": [
       "Scripta Geol. , 148 ( 2015 ) Remarks – <font color=blue>Late</font> <font color=blue>Burdigalian</font> <font color=orange>Microporella</font> <font color=orange>aff.</font> <font color=orange>coronata</font> represents the oldest record for this genus in the Kalimantan samples ."
      ],
      "text/plain": [
       "<IPython.core.display.HTML object>"
      ]
     },
     "metadata": {},
     "output_type": "display_data"
    },
    {
     "name": "stdout",
     "output_type": "stream",
     "text": [
      "=== -- === -- === -- === -- === -- === -- ===\n"
     ]
    },
    {
     "data": {
      "text/html": [
       "At the present day <font color=orange>M.</font> <font color=orange>coronata</font> has been recorded along the coast of <font color=red>Lebanon</font> and from the <font color=red>Red</font> <font color=red>Sea</font> ."
      ],
      "text/plain": [
       "<IPython.core.display.HTML object>"
      ]
     },
     "metadata": {},
     "output_type": "display_data"
    },
    {
     "data": {
      "text/html": [
       "Fossil records from the <font color=red>Mediterranean</font> range from <font color=blue>Miocene</font> to <font color=blue>Pleistocene</font> but at least some may correspond to other species ( Harmelin et al. , 2011 ) ."
      ],
      "text/plain": [
       "<IPython.core.display.HTML object>"
      ]
     },
     "metadata": {},
     "output_type": "display_data"
    },
    {
     "name": "stdout",
     "output_type": "stream",
     "text": [
      "=== -- === -- === -- === -- === -- === -- ===\n"
     ]
    },
    {
     "data": {
      "text/html": [
       "Fossil records from the <font color=red>Mediterranean</font> range from <font color=blue>Miocene</font> to <font color=blue>Pleistocene</font> but at least some may correspond to other species ( Harmelin et al. , 2011 ) ."
      ],
      "text/plain": [
       "<IPython.core.display.HTML object>"
      ]
     },
     "metadata": {},
     "output_type": "display_data"
    },
    {
     "data": {
      "text/html": [
       "<font color=orange>Microporella</font> <font color=orange>sp</font> ."
      ],
      "text/plain": [
       "<IPython.core.display.HTML object>"
      ]
     },
     "metadata": {},
     "output_type": "display_data"
    },
    {
     "name": "stdout",
     "output_type": "stream",
     "text": [
      "=== -- === -- === -- === -- === -- === -- ===\n"
     ]
    },
    {
     "data": {
      "text/html": [
       "It differs from the two previous species of <font color=orange>Microporella</font> described from <font color=red>Kalimantan</font> in having much larger and more elongate zooids , a more porous and less nodular frontal shield , and a greater number of oral spine bases ."
      ],
      "text/plain": [
       "<IPython.core.display.HTML object>"
      ]
     },
     "metadata": {},
     "output_type": "display_data"
    },
    {
     "data": {
      "text/html": [
       "In addition , although <font color=orange>Microporella</font> <font color=orange>sp.</font> shares with <font color=blue>Serravallian</font> <font color=orange>M.</font> <font color=orange>aff.</font> <font color=orange>browni</font> the presence of a single avicularium which is located laterally and directed distolaterally , this avicularium is at the level of the ascopore in the former species , but more proximally placed ( below the level of the ascopore ) in the latter ."
      ],
      "text/plain": [
       "<IPython.core.display.HTML object>"
      ]
     },
     "metadata": {},
     "output_type": "display_data"
    },
    {
     "name": "stdout",
     "output_type": "stream",
     "text": [
      "=== -- === -- === -- === -- === -- === -- ===\n"
     ]
    },
    {
     "data": {
      "text/html": [
       "In addition , although <font color=orange>Microporella</font> <font color=orange>sp.</font> shares with <font color=blue>Serravallian</font> <font color=orange>M.</font> <font color=orange>aff.</font> <font color=orange>browni</font> the presence of a single avicularium which is located laterally and directed distolaterally , this avicularium is at the level of the ascopore in the former species , but more proximally placed ( below the level of the ascopore ) in the latter ."
      ],
      "text/plain": [
       "<IPython.core.display.HTML object>"
      ]
     },
     "metadata": {},
     "output_type": "display_data"
    },
    {
     "data": {
      "text/html": [
       "<font color=orange>M.</font> <font color=orange>donovani</font> Taylor & Foster , 1994 , from the PlioPleistocene of <font color=red>Tobago</font> is similar in the aspect of the frontal shield , but differs in having 4-5 oral spine bases vs. 8 of M. sp. , and paired latero-oral avicularia ."
      ],
      "text/plain": [
       "<IPython.core.display.HTML object>"
      ]
     },
     "metadata": {},
     "output_type": "display_data"
    },
    {
     "name": "stdout",
     "output_type": "stream",
     "text": [
      "=== -- === -- === -- === -- === -- === -- ===\n"
     ]
    },
    {
     "data": {
      "text/html": [
       "<font color=blue>Miocene</font> Bryozoa from <font color=red>East</font> <font color=red>Kalimantan</font> ( Part II ) ."
      ],
      "text/plain": [
       "<IPython.core.display.HTML object>"
      ]
     },
     "metadata": {},
     "output_type": "display_data"
    },
    {
     "data": {
      "text/html": [
       "Scripta Geol. , 148 ( 2015 ) 45 Family Lacernidae Jullien , 1888 Genus <font color=orange>Arthropoma</font> Levinsen , 1909 <font color=orange>Arthropoma</font> <font color=orange>renipora</font> <font color=orange>sp.</font> <font color=orange>nov</font> ."
      ],
      "text/plain": [
       "<IPython.core.display.HTML object>"
      ]
     },
     "metadata": {},
     "output_type": "display_data"
    },
    {
     "name": "stdout",
     "output_type": "stream",
     "text": [
      "=== -- === -- === -- === -- === -- === -- ===\n"
     ]
    },
    {
     "data": {
      "text/html": [
       "The presence of an imperforate median longitudinal area , variable in width , appears to be a common character ( Harmer , 1957 , p. 362 ) , even though specimens of <font color=orange>A.</font> <font color=orange>cecilii</font> , from British waters ( Hayward & Ryland , 1979 ) and the <font color=red>Kermadec</font> Ridge <font color=red>of</font> <font color=red>New</font> <font color=red>Zealand</font> ( Gordon , 1984 ) , for example , may exhibit an evenly perforated frontal wall ."
      ],
      "text/plain": [
       "<IPython.core.display.HTML object>"
      ]
     },
     "metadata": {},
     "output_type": "display_data"
    },
    {
     "data": {
      "text/html": [
       "Canu & Bassler ( 1923 ) described <font color=orange>A.</font> <font color=orange>cornuta</font> from the <font color=blue>Pliocene</font> of Florida , <font color=red>USA</font> , which differs from <font color=orange>A.</font> <font color=orange>renipora</font> <font color=orange>sp.</font> <font color=orange>nov.</font> and <font color=orange>A.</font> <font color=orange>cecilii</font> in the presence of a median umbo on a granular perforated frontal shield ."
      ],
      "text/plain": [
       "<IPython.core.display.HTML object>"
      ]
     },
     "metadata": {},
     "output_type": "display_data"
    },
    {
     "name": "stdout",
     "output_type": "stream",
     "text": [
      "=== -- === -- === -- === -- === -- === -- ===\n"
     ]
    },
    {
     "data": {
      "text/html": [
       "Canu & Bassler ( 1923 ) described <font color=orange>A.</font> <font color=orange>cornuta</font> from the <font color=blue>Pliocene</font> of Florida , <font color=red>USA</font> , which differs from <font color=orange>A.</font> <font color=orange>renipora</font> <font color=orange>sp.</font> <font color=orange>nov.</font> and <font color=orange>A.</font> <font color=orange>cecilii</font> in the presence of a median umbo on a granular perforated frontal shield ."
      ],
      "text/plain": [
       "<IPython.core.display.HTML object>"
      ]
     },
     "metadata": {},
     "output_type": "display_data"
    },
    {
     "data": {
      "text/html": [
       "A subspecies of <font color=orange>A.</font> <font color=orange>cecilii</font> , <font color=orange>A.</font> <font color=orange>cecilii</font> donghaiensis Lu , 1989 , described from the <font color=blue>Pliocene</font> of <font color=red>China</font> with an irregular and subnodular instead of encrusting colony morphology , had been probably misidentified and , based on the description and figures ( Lu , 1989 , pp. 41-42 , pl ."
      ],
      "text/plain": [
       "<IPython.core.display.HTML object>"
      ]
     },
     "metadata": {},
     "output_type": "display_data"
    },
    {
     "name": "stdout",
     "output_type": "stream",
     "text": [
      "=== -- === -- === -- === -- === -- === -- ===\n"
     ]
    },
    {
     "data": {
      "text/html": [
       "A subspecies of <font color=orange>A.</font> <font color=orange>cecilii</font> , <font color=orange>A.</font> <font color=orange>cecilii</font> donghaiensis Lu , 1989 , described from the <font color=blue>Pliocene</font> of <font color=red>China</font> with an irregular and subnodular instead of encrusting colony morphology , had been probably misidentified and , based on the description and figures ( Lu , 1989 , pp. 41-42 , pl ."
      ],
      "text/plain": [
       "<IPython.core.display.HTML object>"
      ]
     },
     "metadata": {},
     "output_type": "display_data"
    },
    {
     "data": {
      "text/html": [
       "5 , figs. 1-5 ) , seems likely belonging to the genus <font color=orange>Celleporina</font> ."
      ],
      "text/plain": [
       "<IPython.core.display.HTML object>"
      ]
     },
     "metadata": {},
     "output_type": "display_data"
    },
    {
     "name": "stdout",
     "output_type": "stream",
     "text": [
      "=== -- === -- === -- === -- === -- === -- ===\n"
     ]
    },
    {
     "data": {
      "text/html": [
       "<font color=blue>Miocene</font> Bryozoa from <font color=red>East</font> <font color=red>Kalimantan</font> ( Part II ) ."
      ],
      "text/plain": [
       "<IPython.core.display.HTML object>"
      ]
     },
     "metadata": {},
     "output_type": "display_data"
    },
    {
     "data": {
      "text/html": [
       "Scripta Geol. , 148 ( 2015 ) Family Escharinidae Tilbrook , 2006 Genus Bryopesanser Tilbrook , 2006 <font color=orange>Bryopesanser</font> <font color=orange>bragai</font> <font color=orange>sp.</font> <font color=orange>nov</font> ."
      ],
      "text/plain": [
       "<IPython.core.display.HTML object>"
      ]
     },
     "metadata": {},
     "output_type": "display_data"
    },
    {
     "name": "stdout",
     "output_type": "stream",
     "text": [
      "=== -- === -- === -- === -- === -- === -- ===\n"
     ]
    },
    {
     "data": {
      "text/html": [
       "<font color=blue>Miocene</font> Bryozoa from <font color=red>East</font> <font color=red>Kalimantan</font> ( Part II ) ."
      ],
      "text/plain": [
       "<IPython.core.display.HTML object>"
      ]
     },
     "metadata": {},
     "output_type": "display_data"
    },
    {
     "data": {
      "text/html": [
       "Scripta Geol. , 148 ( 2015 ) 47 ported <font color=orange>Bryopesanser</font> <font color=orange>sp.</font> as one of the most abundant encrusting bryozoans on lepidocyclinid foraminiferan tests from the <font color=blue>Late</font> <font color=blue>Oligocene</font> of <font color=red>Iran</font> ."
      ],
      "text/plain": [
       "<IPython.core.display.HTML object>"
      ]
     },
     "metadata": {},
     "output_type": "display_data"
    },
    {
     "name": "stdout",
     "output_type": "stream",
     "text": [
      "=== -- === -- === -- === -- === -- === -- ===\n"
     ]
    },
    {
     "data": {
      "text/html": [
       "Scripta Geol. , 148 ( 2015 ) 47 ported <font color=orange>Bryopesanser</font> <font color=orange>sp.</font> as one of the most abundant encrusting bryozoans on lepidocyclinid foraminiferan tests from the <font color=blue>Late</font> <font color=blue>Oligocene</font> of <font color=red>Iran</font> ."
      ],
      "text/plain": [
       "<IPython.core.display.HTML object>"
      ]
     },
     "metadata": {},
     "output_type": "display_data"
    },
    {
     "data": {
      "text/html": [
       "Among <font color=blue>Recent</font> <font color=orange>Bryopesanser</font> species , three have been reported from <font color=red>Indonesia</font> , <font color=orange>B.</font> <font color=orange>capitaneus</font> <font color=red>Tilbrook</font> , 2006 , <font color=orange>B.</font> <font color=orange>crebricollis</font> <font color=red>Tilbrook</font> , 2012 , and B. puncturella Tilbrook , 2012 , while <font color=orange>B.</font> <font color=orange>latesco</font> <font color=red>Tilbrook</font> , 2006 , and <font color=orange>B.</font> <font color=orange>tonsillorum</font> <font color=red>Tilbrook</font> , 2012 , are Indo-Pacific in distribution ( <font color=red>Tilbrook</font> , 2012 ) ."
      ],
      "text/plain": [
       "<IPython.core.display.HTML object>"
      ]
     },
     "metadata": {},
     "output_type": "display_data"
    },
    {
     "name": "stdout",
     "output_type": "stream",
     "text": [
      "=== -- === -- === -- === -- === -- === -- ===\n"
     ]
    },
    {
     "data": {
      "text/html": [
       "Among <font color=blue>Recent</font> <font color=orange>Bryopesanser</font> species , three have been reported from <font color=red>Indonesia</font> , <font color=orange>B.</font> <font color=orange>capitaneus</font> <font color=red>Tilbrook</font> , 2006 , <font color=orange>B.</font> <font color=orange>crebricollis</font> <font color=red>Tilbrook</font> , 2012 , and B. puncturella Tilbrook , 2012 , while <font color=orange>B.</font> <font color=orange>latesco</font> <font color=red>Tilbrook</font> , 2006 , and <font color=orange>B.</font> <font color=orange>tonsillorum</font> <font color=red>Tilbrook</font> , 2012 , are Indo-Pacific in distribution ( <font color=red>Tilbrook</font> , 2012 ) ."
      ],
      "text/plain": [
       "<IPython.core.display.HTML object>"
      ]
     },
     "metadata": {},
     "output_type": "display_data"
    },
    {
     "data": {
      "text/html": [
       "Before , Tilbrook ( 2006 ) demonstrated the existence of a complex of similar species , they were all assigned to <font color=orange>Escharina</font> <font color=orange>pesanseris</font> , which was considered to be globally widespread in warm-temperate and tropical shallow waters , although Harmer ( 1957 ) did note subtle differences between specimens ( Tilbrook , 2012 ) ."
      ],
      "text/plain": [
       "<IPython.core.display.HTML object>"
      ]
     },
     "metadata": {},
     "output_type": "display_data"
    },
    {
     "name": "stdout",
     "output_type": "stream",
     "text": [
      "=== -- === -- === -- === -- === -- === -- ===\n"
     ]
    },
    {
     "data": {
      "text/html": [
       "Measurements – ZL 442 ± 43 , 380-495 ( 5 , 50 ) ; ZW 312 ± 39 , 244-377 ( 5 , 50 ) ; OL 62 ± 3 , 60-64 ( 5 , 25 ) ; OW 63 ± 3 , 61-65 ( 5 , 25 ) ; AL 53 ± 4 , 48-55 ( 5 , 30 ) ."
      ],
      "text/plain": [
       "<IPython.core.display.HTML object>"
      ]
     },
     "metadata": {},
     "output_type": "display_data"
    },
    {
     "data": {
      "text/html": [
       "Remarks – <font color=orange>Bryopesanser</font> <font color=orange>sanfilippoae</font> <font color=orange>sp.</font> <font color=orange>nov.</font> is very common and abundant on the undersides of platy corals and branches in the Burdigalian-Langhian to <font color=blue>Serravallian</font> <font color=red>of</font> <font color=red>Kalimantan</font> ."
      ],
      "text/plain": [
       "<IPython.core.display.HTML object>"
      ]
     },
     "metadata": {},
     "output_type": "display_data"
    },
    {
     "name": "stdout",
     "output_type": "stream",
     "text": [
      "=== -- === -- === -- === -- === -- === -- ===\n"
     ]
    },
    {
     "data": {
      "text/html": [
       "Remarks – <font color=orange>Bryopesanser</font> <font color=orange>sanfilippoae</font> <font color=orange>sp.</font> <font color=orange>nov.</font> is very common and abundant on the undersides of platy corals and branches in the Burdigalian-Langhian to <font color=blue>Serravallian</font> <font color=red>of</font> <font color=red>Kalimantan</font> ."
      ],
      "text/plain": [
       "<IPython.core.display.HTML object>"
      ]
     },
     "metadata": {},
     "output_type": "display_data"
    },
    {
     "data": {
      "text/html": [
       "The lack of a proximal peristome is the most characteristic feature of this species ."
      ],
      "text/plain": [
       "<IPython.core.display.HTML object>"
      ]
     },
     "metadata": {},
     "output_type": "display_data"
    },
    {
     "name": "stdout",
     "output_type": "stream",
     "text": [
      "=== -- === -- === -- === -- === -- === -- ===\n"
     ]
    },
    {
     "data": {
      "text/html": [
       "Autozooids of <font color=orange>B.</font> <font color=orange>hebelomaia</font> <font color=red>Tilbrook</font> , 2012 , known from <font color=red>Sri</font> <font color=red>Lanka</font> , also lack the peristome , except in brooding zooids ."
      ],
      "text/plain": [
       "<IPython.core.display.HTML object>"
      ]
     },
     "metadata": {},
     "output_type": "display_data"
    },
    {
     "data": {
      "text/html": [
       "The two species further differ in the smaller size of the autozooids in the Kalimantan species , the size of the sinus , which is longer than wide in <font color=orange>B.</font> <font color=orange>sanfilippoae</font> <font color=orange>sp.</font> <font color=orange>nov.</font> and as long as wide in <font color=orange>B.</font> <font color=orange>hebelomaia</font> , and in the orientation of the avicularia , distomedially directed in the fossil and distally directed in <font color=blue>the</font> <font color=blue>Recent</font> species ."
      ],
      "text/plain": [
       "<IPython.core.display.HTML object>"
      ]
     },
     "metadata": {},
     "output_type": "display_data"
    },
    {
     "name": "stdout",
     "output_type": "stream",
     "text": [
      "=== -- === -- === -- === -- === -- === -- ===\n"
     ]
    },
    {
     "data": {
      "text/html": [
       "Remarks – Branch fragments of <font color=orange>Tubiporella</font> <font color=orange>magnipora</font> <font color=orange>sp.</font> <font color=orange>nov.</font> occur abundantly in silty sediments of <font color=blue>late</font> <font color=blue>Burdigalian</font> age , while a few encrusting bases have been found on the undersides of platy corals ."
      ],
      "text/plain": [
       "<IPython.core.display.HTML object>"
      ]
     },
     "metadata": {},
     "output_type": "display_data"
    },
    {
     "data": {
      "text/html": [
       "The type species of the genus <font color=orange>Tubiporella</font> , <font color=orange>T.</font> <font color=orange>magnirostris</font> ( MacGillivray , 1883 ) , recorded from southern <font color=red>Australia</font> , differs from the Kalimantan species in possessing paired adventitious avicularia with a much longer and more slender rostrum , smaller frontal areolar pores and shorter peristomes ."
      ],
      "text/plain": [
       "<IPython.core.display.HTML object>"
      ]
     },
     "metadata": {},
     "output_type": "display_data"
    },
    {
     "name": "stdout",
     "output_type": "stream",
     "text": [
      "=== -- === -- === -- === -- === -- === -- ===\n"
     ]
    },
    {
     "data": {
      "text/html": [
       "<font color=orange>T.</font> <font color=orange>levinseni</font> Borg , 1940 ( p. 420 , pl ."
      ],
      "text/plain": [
       "<IPython.core.display.HTML object>"
      ]
     },
     "metadata": {},
     "output_type": "display_data"
    },
    {
     "data": {
      "text/html": [
       "1 , figs. 5-8 ) from <font color=blue>the</font> <font color=blue>Recent</font> of the <font color=red>West</font> <font color=red>Pacific</font> is encrusting , with the frontal shield imperforate except for two rows of small , marginal pores , and an avicularium placed between the orifice and the ascopore ."
      ],
      "text/plain": [
       "<IPython.core.display.HTML object>"
      ]
     },
     "metadata": {},
     "output_type": "display_data"
    },
    {
     "name": "stdout",
     "output_type": "stream",
     "text": [
      "=== -- === -- === -- === -- === -- === -- ===\n"
     ]
    },
    {
     "data": {
      "text/html": [
       "1 , figs. 5-8 ) from <font color=blue>the</font> <font color=blue>Recent</font> of the <font color=red>West</font> <font color=red>Pacific</font> is encrusting , with the frontal shield imperforate except for two rows of small , marginal pores , and an avicularium placed between the orifice and the ascopore ."
      ],
      "text/plain": [
       "<IPython.core.display.HTML object>"
      ]
     },
     "metadata": {},
     "output_type": "display_data"
    },
    {
     "data": {
      "text/html": [
       "It may fit better in the genus <font color=orange>Reptadeonella</font> ."
      ],
      "text/plain": [
       "<IPython.core.display.HTML object>"
      ]
     },
     "metadata": {},
     "output_type": "display_data"
    },
    {
     "name": "stdout",
     "output_type": "stream",
     "text": [
      "=== -- === -- === -- === -- === -- === -- ===\n"
     ]
    },
    {
     "data": {
      "text/html": [
       "It may fit better in the genus <font color=orange>Reptadeonella</font> ."
      ],
      "text/plain": [
       "<IPython.core.display.HTML object>"
      ]
     },
     "metadata": {},
     "output_type": "display_data"
    },
    {
     "data": {
      "text/html": [
       "The unique previous fossil record of <font color=orange>Tubiporella</font> , <font color=orange>T.</font> <font color=orange>bispinosa</font> Guha & Gopikrishna , 2007 , from the <font color=blue>Eocene</font> of <font color=red>Gujarat</font> , differs from the <font color=blue>Miocene</font> Indonesian species in having an encrusting colony-form and two prominent oral spine bases ."
      ],
      "text/plain": [
       "<IPython.core.display.HTML object>"
      ]
     },
     "metadata": {},
     "output_type": "display_data"
    },
    {
     "name": "stdout",
     "output_type": "stream",
     "text": [
      "=== -- === -- === -- === -- === -- === -- ===\n"
     ]
    },
    {
     "data": {
      "text/html": [
       "The unique previous fossil record of <font color=orange>Tubiporella</font> , <font color=orange>T.</font> <font color=orange>bispinosa</font> Guha & Gopikrishna , 2007 , from the <font color=blue>Eocene</font> of <font color=red>Gujarat</font> , differs from the <font color=blue>Miocene</font> Indonesian species in having an encrusting colony-form and two prominent oral spine bases ."
      ],
      "text/plain": [
       "<IPython.core.display.HTML object>"
      ]
     },
     "metadata": {},
     "output_type": "display_data"
    },
    {
     "data": {
      "text/html": [
       "Superfamily Mamilloporoidea Canu & Bassler , 1927 Family Mamilloporidae Canu & Bassler , 1927 Genus Anoteropora Canu & Bassler , 1927 <font color=orange>Anoteropora</font> <font color=orange>cf.</font> <font color=orange>magnicapitata</font> Canu & Bassler , 1927 Pl. 46 ."
      ],
      "text/plain": [
       "<IPython.core.display.HTML object>"
      ]
     },
     "metadata": {},
     "output_type": "display_data"
    },
    {
     "name": "stdout",
     "output_type": "stream",
     "text": [
      "=== -- === -- === -- === -- === -- === -- ===\n"
     ]
    },
    {
     "data": {
      "text/html": [
       "Measurements – ZL 472 ± 28 , 435-519 ( 2 , 40 ) ; ZW 552 ± 49 , 473-620 ( 2 , 40 ) ; OL 242 ± 12 , 226-254 ( 2 , 40 ) ; OW 243 ± 13 , 231-264 ( 2 , 40 ) ; OvL 283 ± 11 , 275-291 ( 1 , 2 ) ; OvW 410 ± 33 , 387433 ( 1 , 2 ) ; AL 230 ± 10 , 210-250 ( 2 , 40 ) ."
      ],
      "text/plain": [
       "<IPython.core.display.HTML object>"
      ]
     },
     "metadata": {},
     "output_type": "display_data"
    },
    {
     "data": {
      "text/html": [
       "Remarks – A few complete colonies and numerous fragments of <font color=orange>Anoteropora</font> <font color=orange>cf.</font> <font color=orange>magnicapitata</font> have been discovered in silty-muddy <font color=blue>Serravallian</font> sediments from Batu <font color=red>Putih</font> along with free-living lunulitiform colonies of <font color=orange>Reussirella</font> <font color=orange>sp</font> ."
      ],
      "text/plain": [
       "<IPython.core.display.HTML object>"
      ]
     },
     "metadata": {},
     "output_type": "display_data"
    },
    {
     "name": "stdout",
     "output_type": "stream",
     "text": [
      "=== -- === -- === -- === -- === -- === -- ===\n"
     ]
    },
    {
     "data": {
      "text/html": [
       "Remarks – A few complete colonies and numerous fragments of <font color=orange>Anoteropora</font> <font color=orange>cf.</font> <font color=orange>magnicapitata</font> have been discovered in silty-muddy <font color=blue>Serravallian</font> sediments from Batu <font color=red>Putih</font> along with free-living lunulitiform colonies of <font color=orange>Reussirella</font> <font color=orange>sp</font> ."
      ],
      "text/plain": [
       "<IPython.core.display.HTML object>"
      ]
     },
     "metadata": {},
     "output_type": "display_data"
    },
    {
     "data": {
      "text/html": [
       "At the present day , four species of <font color=orange>Anoteropora</font> are known to occur in the Indian <font color=red>Ocean</font> : <font color=orange>A.</font> <font color=orange>inarmata</font> Cook , 1965 , <font color=orange>A.</font> <font color=orange>latirostris</font> Silén , 1947 , <font color=orange>A.</font> <font color=orange>otophora</font> Cook & Chimonides , 1994 , and A. magnicapitata Canu & Bassler , 1927 ."
      ],
      "text/plain": [
       "<IPython.core.display.HTML object>"
      ]
     },
     "metadata": {},
     "output_type": "display_data"
    },
    {
     "name": "stdout",
     "output_type": "stream",
     "text": [
      "=== -- === -- === -- === -- === -- === -- ===\n"
     ]
    },
    {
     "data": {
      "text/html": [
       "In contrast , <font color=orange>A.</font> <font color=orange>magnicapitata</font> closely resembles the <font color=blue>Serravallian</font> species , both having the main diagnostic character of the nominal species , viz. the single , distally placed avicularium that is medially or distomedially directed and which is lacking in ovicellate zooid ."
      ],
      "text/plain": [
       "<IPython.core.display.HTML object>"
      ]
     },
     "metadata": {},
     "output_type": "display_data"
    },
    {
     "data": {
      "text/html": [
       "This species is reported to have a wide <font color=red>Indo-West</font> <font color=red>Pacific</font> distribution , extending from the Torres <font color=red>Strait</font> and the <font color=red>southern</font> <font color=red>Philippines</font> to the <font color=red>Red</font> <font color=red>Sea</font> , and along the coast of <font color=red>East</font> <font color=red>Africa</font> to southern <font color=red>Madagascar</font> ( Cook & Chimonides , 1994 ) ."
      ],
      "text/plain": [
       "<IPython.core.display.HTML object>"
      ]
     },
     "metadata": {},
     "output_type": "display_data"
    },
    {
     "name": "stdout",
     "output_type": "stream",
     "text": [
      "=== -- === -- === -- === -- === -- === -- ===\n"
     ]
    },
    {
     "data": {
      "text/html": [
       "Compared to <font color=blue>Recent</font> material from the <font color=red>Philippines</font> and <font color=red>Bali</font> , the Indonesian fossils have smaller zooids , with a different length/width ratio , and larger orifices in non-ovicellate autozooids , but smaller orifices in brooding zooids , smaller avicularia and less prominent ooecia , while the size of the avicularia and ooecia is similar to material from Zanzibar ."
      ],
      "text/plain": [
       "<IPython.core.display.HTML object>"
      ]
     },
     "metadata": {},
     "output_type": "display_data"
    },
    {
     "data": {
      "text/html": [
       "A <font color=blue>Miocene</font> species of <font color=orange>Anoteropora</font> , <font color=orange>A.</font> <font color=orange>rajnathi</font> Tewari , Bhargava & Tandon , 1958 , has been described from <font color=red>India</font> ."
      ],
      "text/plain": [
       "<IPython.core.display.HTML object>"
      ]
     },
     "metadata": {},
     "output_type": "display_data"
    },
    {
     "name": "stdout",
     "output_type": "stream",
     "text": [
      "=== -- === -- === -- === -- === -- === -- ===\n"
     ]
    },
    {
     "data": {
      "text/html": [
       "A <font color=blue>Miocene</font> species of <font color=orange>Anoteropora</font> , <font color=orange>A.</font> <font color=orange>rajnathi</font> Tewari , Bhargava & Tandon , 1958 , has been described from <font color=red>India</font> ."
      ],
      "text/plain": [
       "<IPython.core.display.HTML object>"
      ]
     },
     "metadata": {},
     "output_type": "display_data"
    },
    {
     "data": {
      "text/html": [
       "It differs from <font color=orange>A.</font> <font color=orange>cf.</font> <font color=orange>magnicapitata</font> in having six to eight large marginal pores , and smaller zooids , orifices and avicularia ; ooecia have not been observed ."
      ],
      "text/plain": [
       "<IPython.core.display.HTML object>"
      ]
     },
     "metadata": {},
     "output_type": "display_data"
    },
    {
     "name": "stdout",
     "output_type": "stream",
     "text": [
      "=== -- === -- === -- === -- === -- === -- ===\n"
     ]
    },
    {
     "data": {
      "text/html": [
       "However , it clearly differs from <font color=orange>Cigclisula</font> <font color=orange>aff.</font> <font color=orange>ramparensis</font> in having autozooids with more convex frontal shields , a peristome developing acute lateral spines , a suboral umbo hiding the primary orifice , a less elongate orifice , sloping suboral avicularia and marginal areolar pores distinct from the frontal pores ."
      ],
      "text/plain": [
       "<IPython.core.display.HTML object>"
      ]
     },
     "metadata": {},
     "output_type": "display_data"
    },
    {
     "data": {
      "text/html": [
       "Similarities in the appearance of the frontal shield and in the shape of the orifice , including the presence of the suboral umbo , are apparent with <font color=blue>Recent</font> <font color=orange>C.</font> <font color=orange>areolata</font> ( Kirkpatrick , 1890 ) recorded from the Torres <font color=red>Strait</font> and the <font color=red>Great</font> <font color=red>Barrier</font> <font color=red>Reef</font> ."
      ],
      "text/plain": [
       "<IPython.core.display.HTML object>"
      ]
     },
     "metadata": {},
     "output_type": "display_data"
    },
    {
     "name": "stdout",
     "output_type": "stream",
     "text": [
      "=== -- === -- === -- === -- === -- === -- ===\n"
     ]
    },
    {
     "data": {
      "text/html": [
       "Similarities in the appearance of the frontal shield and in the shape of the orifice , including the presence of the suboral umbo , are apparent with <font color=blue>Recent</font> <font color=orange>C.</font> <font color=orange>areolata</font> ( Kirkpatrick , 1890 ) recorded from the Torres <font color=red>Strait</font> and the <font color=red>Great</font> <font color=red>Barrier</font> <font color=red>Reef</font> ."
      ],
      "text/plain": [
       "<IPython.core.display.HTML object>"
      ]
     },
     "metadata": {},
     "output_type": "display_data"
    },
    {
     "data": {
      "text/html": [
       "<font color=orange>Cigclisula</font> <font color=orange>sp.</font> 2 Pl. 49 ."
      ],
      "text/plain": [
       "<IPython.core.display.HTML object>"
      ]
     },
     "metadata": {},
     "output_type": "display_data"
    },
    {
     "name": "stdout",
     "output_type": "stream",
     "text": [
      "=== -- === -- === -- === -- === -- === -- ===\n"
     ]
    },
    {
     "data": {
      "text/html": [
       "Infilling sediment unfortunately prevents the observation of the primary orifice , and the poor preservation also makes difficult the recognition of ooecia , which in this genus can be completely immersed by secondary calcification and are visible mainly as a grid of small pores ."
      ],
      "text/plain": [
       "<IPython.core.display.HTML object>"
      ]
     },
     "metadata": {},
     "output_type": "display_data"
    },
    {
     "data": {
      "text/html": [
       "The Kalimantan species differs from <font color=blue>the</font> <font color=blue>Recent</font> Indo-Pacific <font color=orange>Trematooecia</font> <font color=orange>clivulata</font> <font color=red>Tilbrook</font> , 2006 , in the lack of pores in its frontal shield , and in the shape and size of the large avicularium , which is parallel-sided in the former but widely spatulate in <font color=orange>T.</font> <font color=orange>clivulata</font> ."
      ],
      "text/plain": [
       "<IPython.core.display.HTML object>"
      ]
     },
     "metadata": {},
     "output_type": "display_data"
    },
    {
     "name": "stdout",
     "output_type": "stream",
     "text": [
      "=== -- === -- === -- === -- === -- === -- ===\n"
     ]
    },
    {
     "data": {
      "text/html": [
       "The Kalimantan species differs from <font color=blue>the</font> <font color=blue>Recent</font> Indo-Pacific <font color=orange>Trematooecia</font> <font color=orange>clivulata</font> <font color=red>Tilbrook</font> , 2006 , in the lack of pores in its frontal shield , and in the shape and size of the large avicularium , which is parallel-sided in the former but widely spatulate in <font color=orange>T.</font> <font color=orange>clivulata</font> ."
      ],
      "text/plain": [
       "<IPython.core.display.HTML object>"
      ]
     },
     "metadata": {},
     "output_type": "display_data"
    },
    {
     "data": {
      "text/html": [
       "Other <font color=blue>Neogene</font> and <font color=blue>Recent</font> species do not show close similarity with the Kalimantan species , which must remain in open nomenclature because of the poor preservation of the colonies , especially of the orifices and ooecia ."
      ],
      "text/plain": [
       "<IPython.core.display.HTML object>"
      ]
     },
     "metadata": {},
     "output_type": "display_data"
    },
    {
     "name": "stdout",
     "output_type": "stream",
     "text": [
      "=== -- === -- === -- === -- === -- === -- ===\n"
     ]
    },
    {
     "data": {
      "text/html": [
       "<font color=blue>Miocene</font> Bryozoa from <font color=red>East</font> <font color=red>Kalimantan</font> ( Part II ) ."
      ],
      "text/plain": [
       "<IPython.core.display.HTML object>"
      ]
     },
     "metadata": {},
     "output_type": "display_data"
    },
    {
     "data": {
      "text/html": [
       "Scripta Geol. , 148 ( 2015 ) Family Celleporidae Johnston , 1838 Genus Buffonellaria Canu & Bassler , 1917 <font color=orange>Buffonellaria</font> <font color=orange>sagittaria</font> <font color=orange>sp.</font> <font color=orange>nov</font> ."
      ],
      "text/plain": [
       "<IPython.core.display.HTML object>"
      ]
     },
     "metadata": {},
     "output_type": "display_data"
    },
    {
     "name": "stdout",
     "output_type": "stream",
     "text": [
      "=== -- === -- === -- === -- === -- === -- ===\n"
     ]
    },
    {
     "data": {
      "text/html": [
       "Remarks – Two colonies of <font color=orange>Buffonellaria</font> <font color=orange>sagittaria</font> <font color=orange>sp.</font> <font color=orange>nov.</font> , one of which is composed of two layers of zooids , have been discovered on the base of thin platy corals from the <font color=blue>late</font> <font color=blue>Burdigalian</font> ."
      ],
      "text/plain": [
       "<IPython.core.display.HTML object>"
      ]
     },
     "metadata": {},
     "output_type": "display_data"
    },
    {
     "data": {
      "text/html": [
       "At the present day , the genus <font color=orange>Buffonellaria</font> occurs worldwide from the <font color=red>Arctic</font> to the <font color=red>Antarctic</font> , but individual species have restricted geographical distributions ( Berning & Kuklinski , 2008 ) ."
      ],
      "text/plain": [
       "<IPython.core.display.HTML object>"
      ]
     },
     "metadata": {},
     "output_type": "display_data"
    },
    {
     "name": "stdout",
     "output_type": "stream",
     "text": [
      "=== -- === -- === -- === -- === -- === -- ===\n"
     ]
    },
    {
     "data": {
      "text/html": [
       "At the present day , the genus <font color=orange>Buffonellaria</font> occurs worldwide from the <font color=red>Arctic</font> to the <font color=red>Antarctic</font> , but individual species have restricted geographical distributions ( Berning & Kuklinski , 2008 ) ."
      ],
      "text/plain": [
       "<IPython.core.display.HTML object>"
      ]
     },
     "metadata": {},
     "output_type": "display_data"
    },
    {
     "data": {
      "text/html": [
       "One fossil species of <font color=orange>Buffonellaria</font> , <font color=orange>B.</font> <font color=orange>cornuta</font> Guha & Gopikrishna , 2007 , has been described from the <font color=blue>Early</font> <font color=blue>Miocene</font> ( <font color=blue>Aquitanian</font> ) of <font color=red>Gujarat</font> ; Di Martino & Taylor ."
      ],
      "text/plain": [
       "<IPython.core.display.HTML object>"
      ]
     },
     "metadata": {},
     "output_type": "display_data"
    },
    {
     "name": "stdout",
     "output_type": "stream",
     "text": [
      "=== -- === -- === -- === -- === -- === -- ===\n"
     ]
    },
    {
     "data": {
      "text/html": [
       "One fossil species of <font color=orange>Buffonellaria</font> , <font color=orange>B.</font> <font color=orange>cornuta</font> Guha & Gopikrishna , 2007 , has been described from the <font color=blue>Early</font> <font color=blue>Miocene</font> ( <font color=blue>Aquitanian</font> ) of <font color=red>Gujarat</font> ; Di Martino & Taylor ."
      ],
      "text/plain": [
       "<IPython.core.display.HTML object>"
      ]
     },
     "metadata": {},
     "output_type": "display_data"
    },
    {
     "data": {
      "text/html": [
       "<font color=blue>Miocene</font> Bryozoa from <font color=red>East</font> <font color=red>Kalimantan</font> ( Part II ) ."
      ],
      "text/plain": [
       "<IPython.core.display.HTML object>"
      ]
     },
     "metadata": {},
     "output_type": "display_data"
    },
    {
     "name": "stdout",
     "output_type": "stream",
     "text": [
      "=== -- === -- === -- === -- === -- === -- ===\n"
     ]
    },
    {
     "data": {
      "text/html": [
       "<font color=blue>Miocene</font> Bryozoa from <font color=red>East</font> <font color=red>Kalimantan</font> ( Part II ) ."
      ],
      "text/plain": [
       "<IPython.core.display.HTML object>"
      ]
     },
     "metadata": {},
     "output_type": "display_data"
    },
    {
     "data": {
      "text/html": [
       "Scripta Geol. , 148 ( 2015 ) 55 two species , <font color=orange>B.</font> <font color=orange>holubicensis</font> Zágoršek , 2010 , and B. kuklinskii Zágoršek , 2010 , have been described from the <font color=blue>Middle</font> <font color=blue>Miocene</font> ( <font color=blue>Langhian</font> ) of the <font color=red>Czech</font> <font color=red>Republic</font> ; and <font color=orange>B.</font> <font color=orange>entomostoma</font> ( Reuss , 1847 ) has been reported from the Middle to <font color=blue>Late</font> <font color=blue>Miocene</font> of the <font color=red>Mediterranean</font> region ( see Berning , 2006 , p. 114 ) ."
      ],
      "text/plain": [
       "<IPython.core.display.HTML object>"
      ]
     },
     "metadata": {},
     "output_type": "display_data"
    },
    {
     "name": "stdout",
     "output_type": "stream",
     "text": [
      "=== -- === -- === -- === -- === -- === -- ===\n"
     ]
    },
    {
     "data": {
      "text/html": [
       "Scripta Geol. , 148 ( 2015 ) 55 two species , <font color=orange>B.</font> <font color=orange>holubicensis</font> Zágoršek , 2010 , and B. kuklinskii Zágoršek , 2010 , have been described from the <font color=blue>Middle</font> <font color=blue>Miocene</font> ( <font color=blue>Langhian</font> ) of the <font color=red>Czech</font> <font color=red>Republic</font> ; and <font color=orange>B.</font> <font color=orange>entomostoma</font> ( Reuss , 1847 ) has been reported from the Middle to <font color=blue>Late</font> <font color=blue>Miocene</font> of the <font color=red>Mediterranean</font> region ( see Berning , 2006 , p. 114 ) ."
      ],
      "text/plain": [
       "<IPython.core.display.HTML object>"
      ]
     },
     "metadata": {},
     "output_type": "display_data"
    },
    {
     "data": {
      "text/html": [
       "<font color=orange>B.</font> <font color=orange>cornuta</font> differs from the Kalimantan species in having a large horn-shaped avicularium with the spatulate rostrum directed distolaterally ; <font color=orange>B.</font> <font color=orange>holubicensis</font> and <font color=orange>B.</font> <font color=orange>kuklinskii</font> are both erect ; and the species recorded as <font color=orange>B.</font> <font color=orange>cf.</font> <font color=orange>entomostoma</font> by Berning ( 2006 ) has large avicularia that are variably directed ."
      ],
      "text/plain": [
       "<IPython.core.display.HTML object>"
      ]
     },
     "metadata": {},
     "output_type": "display_data"
    },
    {
     "name": "stdout",
     "output_type": "stream",
     "text": [
      "=== -- === -- === -- === -- === -- === -- ===\n"
     ]
    },
    {
     "data": {
      "text/html": [
       "<font color=orange>B.</font> <font color=orange>cornuta</font> differs from the Kalimantan species in having a large horn-shaped avicularium with the spatulate rostrum directed distolaterally ; <font color=orange>B.</font> <font color=orange>holubicensis</font> and <font color=orange>B.</font> <font color=orange>kuklinskii</font> are both erect ; and the species recorded as <font color=orange>B.</font> <font color=orange>cf.</font> <font color=orange>entomostoma</font> by Berning ( 2006 ) has large avicularia that are variably directed ."
      ],
      "text/plain": [
       "<IPython.core.display.HTML object>"
      ]
     },
     "metadata": {},
     "output_type": "display_data"
    },
    {
     "data": {
      "text/html": [
       "With regard to general zooidal morphology and size , <font color=orange>Buffonellaria</font> <font color=orange>sagittaria</font> <font color=orange>sp.</font> <font color=orange>nov.</font> resembles <font color=blue>Recent</font> <font color=orange>B.</font> <font color=orange>ritae</font> Berning & Kuklinski , 2008 , from <font color=red>Madeira</font> ."
      ],
      "text/plain": [
       "<IPython.core.display.HTML object>"
      ]
     },
     "metadata": {},
     "output_type": "display_data"
    },
    {
     "name": "stdout",
     "output_type": "stream",
     "text": [
      "=== -- === -- === -- === -- === -- === -- ===\n"
     ]
    },
    {
     "data": {
      "text/html": [
       "With regard to general zooidal morphology and size , <font color=orange>Buffonellaria</font> <font color=orange>sagittaria</font> <font color=orange>sp.</font> <font color=orange>nov.</font> resembles <font color=blue>Recent</font> <font color=orange>B.</font> <font color=orange>ritae</font> Berning & Kuklinski , 2008 , from <font color=red>Madeira</font> ."
      ],
      "text/plain": [
       "<IPython.core.display.HTML object>"
      ]
     },
     "metadata": {},
     "output_type": "display_data"
    },
    {
     "data": {
      "text/html": [
       "However , <font color=orange>B.</font> <font color=orange>ritae</font> has a much wider sinus , different proportions of ooecium length and width , and large avicularia with triangular instead of arrowhead-shaped rostra ."
      ],
      "text/plain": [
       "<IPython.core.display.HTML object>"
      ]
     },
     "metadata": {},
     "output_type": "display_data"
    },
    {
     "name": "stdout",
     "output_type": "stream",
     "text": [
      "=== -- === -- === -- === -- === -- === -- ===\n"
     ]
    },
    {
     "data": {
      "text/html": [
       "Remarks – <font color=orange>Lagenipora</font> <font color=orange>sciutoi</font> <font color=orange>sp.</font> <font color=orange>nov.</font> forms small colonies on the base of <font color=blue>late</font> <font color=blue>Burdigalian</font> platy corals ."
      ],
      "text/plain": [
       "<IPython.core.display.HTML object>"
      ]
     },
     "metadata": {},
     "output_type": "display_data"
    },
    {
     "data": {
      "text/html": [
       "It resembles <font color=blue>the</font> <font color=blue>Recent</font> <font color=orange>L.</font> <font color=orange>ferocissima</font> Gordon , 1984 , from the <font color=red>Kermadec</font> Ridge in having tuberculate frontal shields yet smooth peristomes , but it differs in 56 Di Martino & Taylor ."
      ],
      "text/plain": [
       "<IPython.core.display.HTML object>"
      ]
     },
     "metadata": {},
     "output_type": "display_data"
    },
    {
     "name": "stdout",
     "output_type": "stream",
     "text": [
      "=== -- === -- === -- === -- === -- === -- ===\n"
     ]
    },
    {
     "data": {
      "text/html": [
       "It resembles <font color=blue>the</font> <font color=blue>Recent</font> <font color=orange>L.</font> <font color=orange>ferocissima</font> Gordon , 1984 , from the <font color=red>Kermadec</font> Ridge in having tuberculate frontal shields yet smooth peristomes , but it differs in 56 Di Martino & Taylor ."
      ],
      "text/plain": [
       "<IPython.core.display.HTML object>"
      ]
     },
     "metadata": {},
     "output_type": "display_data"
    },
    {
     "data": {
      "text/html": [
       "<font color=blue>Miocene</font> Bryozoa from <font color=red>East</font> <font color=red>Kalimantan</font> ( Part II ) ."
      ],
      "text/plain": [
       "<IPython.core.display.HTML object>"
      ]
     },
     "metadata": {},
     "output_type": "display_data"
    },
    {
     "name": "stdout",
     "output_type": "stream",
     "text": [
      "=== -- === -- === -- === -- === -- === -- ===\n"
     ]
    },
    {
     "data": {
      "text/html": [
       "Since then , two <font color=blue>Recent</font> species have been assigned to the genus , <font color=orange>P.</font> <font color=orange>longiuscula</font> ( Harmer , 1957 ) and <font color=orange>P.</font> <font color=orange>ensenada</font> Tilbrook , 2006 ."
      ],
      "text/plain": [
       "<IPython.core.display.HTML object>"
      ]
     },
     "metadata": {},
     "output_type": "display_data"
    },
    {
     "data": {
      "text/html": [
       "The former species is recorded from the Bay <font color=red>of</font> Suez at 13 m depth , the latter from the <font color=red>Solomon</font> <font color=red>Islands</font> ."
      ],
      "text/plain": [
       "<IPython.core.display.HTML object>"
      ]
     },
     "metadata": {},
     "output_type": "display_data"
    },
    {
     "name": "stdout",
     "output_type": "stream",
     "text": [
      "=== -- === -- === -- === -- === -- === -- ===\n"
     ]
    },
    {
     "data": {
      "text/html": [
       "<font color=blue>Miocene</font> Bryozoa from <font color=red>East</font> <font color=red>Kalimantan</font> ( Part II ) ."
      ],
      "text/plain": [
       "<IPython.core.display.HTML object>"
      ]
     },
     "metadata": {},
     "output_type": "display_data"
    },
    {
     "data": {
      "text/html": [
       "Scripta Geol. , 148 ( 2015 ) 57 Genus <font color=orange>Turbicellepora</font> Ryland , 1963 <font color=orange>Turbicellepora</font> <font color=orange>aff.</font> canui Guha & Gopikrishna , 2007 Pl. 53 ."
      ],
      "text/plain": [
       "<IPython.core.display.HTML object>"
      ]
     },
     "metadata": {},
     "output_type": "display_data"
    },
    {
     "name": "stdout",
     "output_type": "stream",
     "text": [
      "=== -- === -- === -- === -- === -- === -- ===\n"
     ]
    },
    {
     "data": {
      "text/html": [
       "Remarks – <font color=orange>Turbicellepora</font> <font color=orange>aff.</font> canui commonly forms encrusting , mound-like colonies on branching coral or erect bryozoan fragments from the <font color=blue>Serravallian</font> section ‘ Batu Putih 1 ’ ."
      ],
      "text/plain": [
       "<IPython.core.display.HTML object>"
      ]
     },
     "metadata": {},
     "output_type": "display_data"
    },
    {
     "data": {
      "text/html": [
       "This species closely resembles T. canui Guha & Gopikrishna , 2007 , from the <font color=blue>Aquitanian</font> of <font color=red>Gujarat</font> , in orificial and ovicellular characters , and in having one or two small , peristomial avicularia and large , vicarious , spatulate avicularia ."
      ],
      "text/plain": [
       "<IPython.core.display.HTML object>"
      ]
     },
     "metadata": {},
     "output_type": "display_data"
    },
    {
     "name": "stdout",
     "output_type": "stream",
     "text": [
      "=== -- === -- === -- === -- === -- === -- ===\n"
     ]
    },
    {
     "data": {
      "text/html": [
       "<font color=blue>Miocene</font> Bryozoa from <font color=red>East</font> <font color=red>Kalimantan</font> ( Part II ) ."
      ],
      "text/plain": [
       "<IPython.core.display.HTML object>"
      ]
     },
     "metadata": {},
     "output_type": "display_data"
    },
    {
     "data": {
      "text/html": [
       "Scripta Geol. , 148 ( 2015 ) Family Hippoporidridae Vigneaux , 1949 Genus <font color=orange>Scorpiodinipora</font> Balavoine , 1959 <font color=orange>Scorpiodinipora</font> <font color=orange>cf.</font> <font color=orange>costulata</font> ( Canu & Bassler , 1929 ) Pl. 54 ."
      ],
      "text/plain": [
       "<IPython.core.display.HTML object>"
      ]
     },
     "metadata": {},
     "output_type": "display_data"
    },
    {
     "name": "stdout",
     "output_type": "stream",
     "text": [
      "=== -- === -- === -- === -- === -- === -- ===\n"
     ]
    },
    {
     "data": {
      "text/html": [
       "The nanozooids observed in colonies from <font color=red>Lebanon</font> are absent in the fossil material ; however , kenozooids without apertures are common ."
      ],
      "text/plain": [
       "<IPython.core.display.HTML object>"
      ]
     },
     "metadata": {},
     "output_type": "display_data"
    },
    {
     "data": {
      "text/html": [
       "This is the first documented unequivocal fossil record for <font color=orange>Scorpiodinipora</font> ; Sendino & Taylor ( 2014 ) reported a questionable example from the <font color=blue>Pliocene</font> of <font color=red>Gran</font> <font color=red>Canaria</font> ."
      ],
      "text/plain": [
       "<IPython.core.display.HTML object>"
      ]
     },
     "metadata": {},
     "output_type": "display_data"
    },
    {
     "name": "stdout",
     "output_type": "stream",
     "text": [
      "=== -- === -- === -- === -- === -- === -- ===\n"
     ]
    },
    {
     "data": {
      "text/html": [
       "This is the first documented unequivocal fossil record for <font color=orange>Scorpiodinipora</font> ; Sendino & Taylor ( 2014 ) reported a questionable example from the <font color=blue>Pliocene</font> of <font color=red>Gran</font> <font color=red>Canaria</font> ."
      ],
      "text/plain": [
       "<IPython.core.display.HTML object>"
      ]
     },
     "metadata": {},
     "output_type": "display_data"
    },
    {
     "data": {
      "text/html": [
       "Point mineralogical analysis made using Laser Raman Spectroscopy on the Kalimantan specimen showed the frontal shield to have an aragonitic composition , which may at least in part explain the previous absence of this genus from the fossil record ."
      ],
      "text/plain": [
       "<IPython.core.display.HTML object>"
      ]
     },
     "metadata": {},
     "output_type": "display_data"
    },
    {
     "name": "stdout",
     "output_type": "stream",
     "text": [
      "=== -- === -- === -- === -- === -- === -- ===\n"
     ]
    },
    {
     "data": {
      "text/html": [
       "<font color=blue>Miocene</font> Bryozoa from <font color=red>East</font> <font color=red>Kalimantan</font> ( Part II ) ."
      ],
      "text/plain": [
       "<IPython.core.display.HTML object>"
      ]
     },
     "metadata": {},
     "output_type": "display_data"
    },
    {
     "data": {
      "text/html": [
       "Scripta Geol. , 148 ( 2015 ) 61 Remarks – A few extensive colonies of <font color=orange>Plesiocleidochasma</font> <font color=orange>cf.</font> <font color=orange>laterale</font> have been found encrusting <font color=blue>late</font> <font color=blue>Burdigalian</font> to <font color=blue>Langhian</font> platy corals ."
      ],
      "text/plain": [
       "<IPython.core.display.HTML object>"
      ]
     },
     "metadata": {},
     "output_type": "display_data"
    },
    {
     "name": "stdout",
     "output_type": "stream",
     "text": [
      "=== -- === -- === -- === -- === -- === -- ===\n"
     ]
    },
    {
     "data": {
      "text/html": [
       "<font color=blue>Miocene</font> Bryozoa from <font color=red>East</font> <font color=red>Kalimantan</font> ( Part II ) ."
      ],
      "text/plain": [
       "<IPython.core.display.HTML object>"
      ]
     },
     "metadata": {},
     "output_type": "display_data"
    },
    {
     "data": {
      "text/html": [
       "Scripta Geol. , 148 ( 2015 ) <font color=orange>Plesiocleidochasma</font> <font color=orange>sp.</font> 2 Pl. 56 , fig. 3a-c ."
      ],
      "text/plain": [
       "<IPython.core.display.HTML object>"
      ]
     },
     "metadata": {},
     "output_type": "display_data"
    },
    {
     "name": "stdout",
     "output_type": "stream",
     "text": [
      "=== -- === -- === -- === -- === -- === -- ===\n"
     ]
    },
    {
     "data": {
      "text/html": [
       "Remarks – A few poorly preserved colonies of <font color=orange>Stephanollona</font> <font color=orange>sp.</font> encrust the bases of platy corals from the <font color=blue>late</font> <font color=blue>Burdigalian</font> and <font color=blue>Serravallian</font> ."
      ],
      "text/plain": [
       "<IPython.core.display.HTML object>"
      ]
     },
     "metadata": {},
     "output_type": "display_data"
    },
    {
     "data": {
      "text/html": [
       "Two species of <font color=orange>Stephanollona</font> have been described from the <font color=blue>Cenozoic</font> of <font color=red>France</font> , <font color=orange>S.</font> <font color=orange>spinifera</font> Duvergier , 1921 , and S. dentata Vigneaux , 1949 ."
      ],
      "text/plain": [
       "<IPython.core.display.HTML object>"
      ]
     },
     "metadata": {},
     "output_type": "display_data"
    },
    {
     "name": "stdout",
     "output_type": "stream",
     "text": [
      "=== -- === -- === -- === -- === -- === -- ===\n"
     ]
    },
    {
     "data": {
      "text/html": [
       "Two species of <font color=orange>Stephanollona</font> have been described from the <font color=blue>Cenozoic</font> of <font color=red>France</font> , <font color=orange>S.</font> <font color=orange>spinifera</font> Duvergier , 1921 , and S. dentata Vigneaux , 1949 ."
      ],
      "text/plain": [
       "<IPython.core.display.HTML object>"
      ]
     },
     "metadata": {},
     "output_type": "display_data"
    },
    {
     "data": {
      "text/html": [
       "The Kalimantan species differs from <font color=orange>S.</font> <font color=orange>spinifera</font> in having shorter zooids and six oral spines rather than four or five , while it differs from <font color=orange>S.</font> <font color=orange>dentata</font> in having a primary orifice that is conspicuously longer than wide ."
      ],
      "text/plain": [
       "<IPython.core.display.HTML object>"
      ]
     },
     "metadata": {},
     "output_type": "display_data"
    },
    {
     "name": "stdout",
     "output_type": "stream",
     "text": [
      "=== -- === -- === -- === -- === -- === -- ===\n"
     ]
    },
    {
     "data": {
      "text/html": [
       "<font color=blue>Miocene</font> Bryozoa from <font color=red>East</font> <font color=red>Kalimantan</font> ( Part II ) ."
      ],
      "text/plain": [
       "<IPython.core.display.HTML object>"
      ]
     },
     "metadata": {},
     "output_type": "display_data"
    },
    {
     "data": {
      "text/html": [
       "Scripta Geol. , 148 ( 2015 ) Genus Triphyllozoon Canu & Bassler , 1917 <font color=orange>Triphyllozoon</font> <font color=orange>sp</font> ."
      ],
      "text/plain": [
       "<IPython.core.display.HTML object>"
      ]
     },
     "metadata": {},
     "output_type": "display_data"
    },
    {
     "name": "stdout",
     "output_type": "stream",
     "text": [
      "=== -- === -- === -- === -- === -- === -- ===\n"
     ]
    },
    {
     "data": {
      "text/html": [
       "Measurements – ZL 368 ± 11 , 358-385 ( 5 , 50 ) ; ZW 221 ± 16 , 203-245 ( 5 , 50 ) ; OvL 150 ± 15 , 140-160 ( 2 , 6 ) ; OvW 160 ± 16 , 148-171 ( 2 , 6 ) ."
      ],
      "text/plain": [
       "<IPython.core.display.HTML object>"
      ]
     },
     "metadata": {},
     "output_type": "display_data"
    },
    {
     "data": {
      "text/html": [
       "Remarks – Hundreds of fragments of <font color=orange>Triphyllozoon</font> <font color=orange>sp.</font> have been found in silty sediments of <font color=blue>late</font> <font color=blue>Burdigalian</font> and <font color=blue>Serravallian</font> age in <font color=red>East</font> <font color=red>Kalimantan</font> ."
      ],
      "text/plain": [
       "<IPython.core.display.HTML object>"
      ]
     },
     "metadata": {},
     "output_type": "display_data"
    },
    {
     "name": "stdout",
     "output_type": "stream",
     "text": [
      "=== -- === -- === -- === -- === -- === -- ===\n"
     ]
    },
    {
     "data": {
      "text/html": [
       "Remarks – Hundreds of fragments of <font color=orange>Triphyllozoon</font> <font color=orange>sp.</font> have been found in silty sediments of <font color=blue>late</font> <font color=blue>Burdigalian</font> and <font color=blue>Serravallian</font> age in <font color=red>East</font> <font color=red>Kalimantan</font> ."
      ],
      "text/plain": [
       "<IPython.core.display.HTML object>"
      ]
     },
     "metadata": {},
     "output_type": "display_data"
    },
    {
     "data": {
      "text/html": [
       "Genera of phidoloporids are distinguished by features of the ooecia and peristomes ."
      ],
      "text/plain": [
       "<IPython.core.display.HTML object>"
      ]
     },
     "metadata": {},
     "output_type": "display_data"
    },
    {
     "name": "stdout",
     "output_type": "stream",
     "text": [
      "=== -- === -- === -- === -- === -- === -- ===\n"
     ]
    },
    {
     "data": {
      "text/html": [
       "<font color=blue>Miocene</font> Bryozoa from <font color=red>East</font> <font color=red>Kalimantan</font> ( Part II ) ."
      ],
      "text/plain": [
       "<IPython.core.display.HTML object>"
      ]
     },
     "metadata": {},
     "output_type": "display_data"
    },
    {
     "data": {
      "text/html": [
       "Scripta Geol. , 148 ( 2015 ) 65 Although <font color=orange>T.</font> <font color=orange>patulum</font> has similar spatulate frontal avicularia , these are much larger and this species also differs in lacking suboral avicularia ."
      ],
      "text/plain": [
       "<IPython.core.display.HTML object>"
      ]
     },
     "metadata": {},
     "output_type": "display_data"
    },
    {
     "name": "stdout",
     "output_type": "stream",
     "text": [
      "=== -- === -- === -- === -- === -- === -- ===\n"
     ]
    },
    {
     "data": {
      "text/html": [
       "<font color=blue>Miocene</font> Bryozoa from <font color=red>East</font> <font color=red>Kalimantan</font> ( Part II ) ."
      ],
      "text/plain": [
       "<IPython.core.display.HTML object>"
      ]
     },
     "metadata": {},
     "output_type": "display_data"
    },
    {
     "data": {
      "text/html": [
       "Scripta Geol. , 148 ( 2015 ) 67 nating between the two genera , is the peristome , which varies from widely open to deep with a medioproximal sinus in <font color=orange>Reteporella</font> , to deep with a flared proximal rim developed into rounded crenulations , bearing a narrow medioproximal sinus in <font color=orange>Reteporellina</font> ."
      ],
      "text/plain": [
       "<IPython.core.display.HTML object>"
      ]
     },
     "metadata": {},
     "output_type": "display_data"
    },
    {
     "name": "stdout",
     "output_type": "stream",
     "text": [
      "=== -- === -- === -- === -- === -- === -- ===\n"
     ]
    },
    {
     "data": {
      "text/html": [
       "Summary The <font color=blue>Miocene</font> bryozoans described from <font color=red>East</font> <font color=red>Kalimantan</font> in this study , including the first part of the present monograph ( Di Martino & Taylor , 2014 ) , number 123 species and comprise 15 cyclostomes , 36 anascan-grade and 72 ascophoran-grade cheilostomes ."
      ],
      "text/plain": [
       "<IPython.core.display.HTML object>"
      ]
     },
     "metadata": {},
     "output_type": "display_data"
    },
    {
     "data": {
      "text/html": [
       "The faunas include 33 new species ( 26 % ) , two of which , the cribrimorph <font color=orange>Antoniettella</font> <font color=orange>exigua</font> Di Martino & Taylor , 2012a , and the anascan <font color=orange>Setosinella</font> <font color=orange>perfluxa</font> Di Martino & Taylor , 2012b , were introduced in earlier papers ."
      ],
      "text/plain": [
       "<IPython.core.display.HTML object>"
      ]
     },
     "metadata": {},
     "output_type": "display_data"
    },
    {
     "name": "stdout",
     "output_type": "stream",
     "text": [
      "=== -- === -- === -- === -- === -- === -- ===\n"
     ]
    },
    {
     "data": {
      "text/html": [
       "Twenty-six taxa ( 22 % ) have been identified provisionally to species level ."
      ],
      "text/plain": [
       "<IPython.core.display.HTML object>"
      ]
     },
     "metadata": {},
     "output_type": "display_data"
    },
    {
     "data": {
      "text/html": [
       "Among them , 20 species ( 16 % ) show <font color=blue>Recent</font> Indo-Pacific affinities ; two ( 2 % ) , <font color=orange>Scorpiodinipora</font> <font color=orange>cf.</font> <font color=orange>costulata</font> and <font color=orange>Hippopodina</font> <font color=orange>cf.</font> <font color=orange>pulcherrima</font> , show similarities to <font color=blue>Recent</font> species recorded circumtropically ; and three species ( 3 % ) are closely related to previously known taxa from the fossil record : <font color=orange>Adeonellopsis</font> <font color=orange>aff.</font> <font color=orange>obliqua</font> from the <font color=blue>Cenozoic</font> of <font color=red>Australia</font> , and <font color=orange>Cigclisula</font> <font color=orange>aff.</font> <font color=orange>ramparensis</font> and <font color=orange>Turbicellepora</font> <font color=orange>aff.</font> canui from the <font color=blue>Early</font> <font color=blue>Miocene</font> of <font color=red>India</font> ."
      ],
      "text/plain": [
       "<IPython.core.display.HTML object>"
      ]
     },
     "metadata": {},
     "output_type": "display_data"
    }
   ],
   "source": [
    "for idx in bingo_idx:\n",
    "    print(\"=== -- === -- === -- === -- === -- === -- ===\")\n",
    "    for i in idx:\n",
    "        display(text(doc_sentences[i]))"
   ]
  },
  {
   "cell_type": "code",
   "execution_count": null,
   "metadata": {},
   "outputs": [],
   "source": []
  },
  {
   "cell_type": "code",
   "execution_count": null,
   "metadata": {},
   "outputs": [],
   "source": []
  },
  {
   "cell_type": "code",
   "execution_count": null,
   "metadata": {},
   "outputs": [],
   "source": []
  },
  {
   "cell_type": "code",
   "execution_count": null,
   "metadata": {},
   "outputs": [],
   "source": []
  },
  {
   "cell_type": "code",
   "execution_count": null,
   "metadata": {},
   "outputs": [],
   "source": []
  }
 ],
 "metadata": {
  "kernelspec": {
   "display_name": "Python 3",
   "language": "python",
   "name": "python3"
  },
  "language_info": {
   "codemirror_mode": {
    "name": "ipython",
    "version": 3
   },
   "file_extension": ".py",
   "mimetype": "text/x-python",
   "name": "python",
   "nbconvert_exporter": "python",
   "pygments_lexer": "ipython3",
   "version": "3.6.7"
  }
 },
 "nbformat": 4,
 "nbformat_minor": 2
}
