{
 "cells": [
  {
   "cell_type": "code",
   "execution_count": 1,
   "metadata": {},
   "outputs": [],
   "source": [
    "#"
   ]
  },
  {
   "cell_type": "code",
   "execution_count": 2,
   "metadata": {},
   "outputs": [
    {
     "name": "stdout",
     "output_type": "stream",
     "text": [
      "\u001b[0m\u001b[01;34mdata\u001b[0m/  Untitled.ipynb\r\n"
     ]
    }
   ],
   "source": [
    "%ls"
   ]
  },
  {
   "cell_type": "code",
   "execution_count": 4,
   "metadata": {},
   "outputs": [
    {
     "name": "stdout",
     "output_type": "stream",
     "text": [
      "5ab3cf1ecf58f10e4a1e0b0f_sentences_nlp390_bryozoa\r\n",
      "5ab3cf1fcf58f10e4a1e0b11_sentences_nlp390_bryozoa\r\n",
      "5ab3cf1fcf58f10e4a1e0b12_sentences_nlp390_bryozoa\r\n",
      "5ab3cf20cf58f10e4a1e0b14_sentences_nlp390_bryozoa\r\n",
      "5ab3cf29cf58f10e4a1e0b24_sentences_nlp390_bryozoa\r\n",
      "5ab3cf2acf58f10e4a1e0b26_sentences_nlp390_bryozoa\r\n",
      "5ab3cf2bcf58f10e4a1e0b28_sentences_nlp390_bryozoa\r\n",
      "5ab3cf2bcf58f10e4a1e0b29_sentences_nlp390_bryozoa\r\n",
      "5ab3cf2ccf58f10e4a1e0b2c_sentences_nlp390_bryozoa\r\n",
      "5ab3cf2ecf58f10e4a1e0b32_sentences_nlp390_bryozoa\r\n"
     ]
    }
   ],
   "source": [
    "ls data/nlp390_bryozoa/ | head"
   ]
  },
  {
   "cell_type": "code",
   "execution_count": 5,
   "metadata": {},
   "outputs": [],
   "source": [
    "import glob"
   ]
  },
  {
   "cell_type": "code",
   "execution_count": 9,
   "metadata": {},
   "outputs": [],
   "source": [
    "fpaths = glob.glob(\"data/nlp390_bryozoa/*\")"
   ]
  },
  {
   "cell_type": "code",
   "execution_count": null,
   "metadata": {},
   "outputs": [],
   "source": []
  },
  {
   "cell_type": "code",
   "execution_count": 10,
   "metadata": {},
   "outputs": [
    {
     "data": {
      "text/plain": [
       "'data/nlp390_bryozoa/5ab3d0e0cf58f10e4a1e0eef_sentences_nlp390_bryozoa'"
      ]
     },
     "execution_count": 10,
     "metadata": {},
     "output_type": "execute_result"
    }
   ],
   "source": [
    "fpaths[0]"
   ]
  },
  {
   "cell_type": "code",
   "execution_count": 11,
   "metadata": {},
   "outputs": [],
   "source": [
    "import pandas as pd"
   ]
  },
  {
   "cell_type": "code",
   "execution_count": null,
   "metadata": {},
   "outputs": [],
   "source": []
  },
  {
   "cell_type": "code",
   "execution_count": 125,
   "metadata": {},
   "outputs": [],
   "source": [
    "import re\n",
    "pattern = re.compile(',\\s*(?=([^\\\"]*\"[^\\\"]*\\\")*[^\\\"]*$)')\n",
    "\n",
    "def strsplit_idx(s, indices):\n",
    "    res = [s[i:j] for i,j in zip(indices, indices[1:]+[None])]\n",
    "    return(res)\n",
    "\n",
    "\n",
    "\n",
    "def feature_to_list(s):\n",
    "    if type(s) == str:\n",
    "        s = s.replace(\"{\",\"\").replace(\"}\",\"\")\n",
    "\n",
    "        idx = []\n",
    "        for m in re.finditer(pattern, s):\n",
    "            idx.append(m.start())\n",
    "\n",
    "        res = [\",\" if x[1:] == '\",\"' else x[1:] for x in strsplit_idx(s, idx)]\n",
    "    else:\n",
    "        res = s\n",
    "    \n",
    "    return(res)"
   ]
  },
  {
   "cell_type": "code",
   "execution_count": 126,
   "metadata": {},
   "outputs": [],
   "source": [
    "header = [\"docid\", \"sentid\", \"wordidx\", \"word\", \"poses\", \"ners\", \"lemmas\", \"dep_paths\", \"dep_parents\"]\n",
    "df = pd.read_csv(fpaths[10], header=None, names = header, sep =\"\\t\")\n",
    "\n",
    "for k, v in df.iteritems():\n",
    "    df[k] = [feature_to_list(x) for x in v]"
   ]
  },
  {
   "cell_type": "code",
   "execution_count": 147,
   "metadata": {},
   "outputs": [
    {
     "name": "stdout",
     "output_type": "stream",
     "text": [
      "['MISC', 'O', 'O', 'O', 'O', 'O', 'O', 'O', 'PERSON', 'PERSON', 'O', 'PERSON', 'O', 'DATE', 'O']\n",
      "['TAXA', 'O', 'TAXA', 'TAXA', 'O', 'O', 'O', 'O', 'O', 'O', 'O', 'O', 'O', 'O', 'TAXA', 'TAXA', 'O', 'O', 'O', 'O', 'O']\n",
      ".\n",
      "['O', 'O', 'O', 'O', 'INTERVALNAME', 'O', 'O', 'COUNTRY', 'COUNTRY', 'LOCATION', 'ORGANIZATION', 'ORGANIZATION', 'ORGANIZATION', 'ORGANIZATION', 'O', 'STATE_OR_PROVINCE', 'O', 'INTERVALNAME', 'O', 'O', 'O', 'COUNTRY', 'COUNTRY', 'O', 'O', 'O', 'O', 'O', 'O']\n",
      ".\n",
      "['O', 'O', 'O', 'O', 'O', 'O', 'O', 'O', 'O', 'O', 'O', 'O', 'O', 'O', 'O', 'O', 'O', 'O', 'O', 'O', 'O', 'O', 'O', 'O', 'O', 'O', 'O', 'O', 'O', 'O', 'INTERVALNAME', 'O', 'O', 'COUNTRY', 'COUNTRY', 'O']\n",
      ".\n",
      "['O', 'O', 'O', 'O', 'O', 'O', 'O', 'O', 'O', 'O', 'O', 'O', 'O', 'O', 'O', 'O', 'O', 'O', 'O', 'O', 'O', 'O', 'O', 'O', 'O', 'O', 'O', 'O', 'O', 'O', 'O', 'O', 'NUMBER', 'O', 'O', 'O']\n"
     ]
    }
   ],
   "source": [
    "import itertools\n",
    "\n",
    "for i, row in itertools.islice(df.iterrows(), 5):\n",
    "    #print(row[\"ners\"])\n",
    "    if {\"TAXA\", \"INTERVALNAME\"}.intersection(set(row[\"ners\"])):\n",
    "        print(\".\")\n",
    "        print(\"\")"
   ]
  },
  {
   "cell_type": "code",
   "execution_count": 92,
   "metadata": {},
   "outputs": [],
   "source": [
    "with open(fpaths[10], \"r\") as f:\n",
    "    d = f.readlines()\n",
    "    "
   ]
  },
  {
   "cell_type": "code",
   "execution_count": 85,
   "metadata": {},
   "outputs": [
    {
     "data": {
      "text/plain": [
       "['5ab3d024cf58f10e4a1e0d48',\n",
       " '51',\n",
       " '{1,2,3,4,5,6,7,8,9,10,11,12,13,14,15,16,17,18,19,20,21,22,23,24,25,26,27,28,29,30,31,32}',\n",
       " '{Opesia,ovate,to,arched,with,nearly,straight,proximal,border,and,rounded,distal,border,\",\",and,with,variable,number,of,spiniform,processes,and,denticles,projecting,inward,\",\",located,mainly,laterally,and,proximally,.}',\n",
       " '{NN,NN,TO,VBN,IN,RB,JJ,JJ,NN,CC,VBD,JJ,NN,\",\",CC,IN,JJ,NN,IN,NN,NNS,CC,NNS,VBG,JJ,\",\",JJ,RB,RB,CC,RB,.}',\n",
       " '{O,O,O,O,O,O,O,O,O,O,O,O,O,O,O,O,O,O,O,O,O,O,O,O,O,O,O,O,O,O,O,O}',\n",
       " '{opesia,ovate,to,arch,with,nearly,straight,proximal,border,and,round,distal,border,\",\",and,with,variable,number,of,spiniform,process,and,denticle,project,inward,\",\",located,mainly,laterally,and,proximally,.}',\n",
       " '{compound,\"\",case,conj:and,case,advmod,amod,amod,nmod:with,cc,amod,amod,conj,punct,cc,case,amod,nmod:with,case,nmod:of,nmod:to,cc,conj:and,acl,xcomp,punct,conj:and,dep,dep,cc,advmod,punct}',\n",
       " '{2,0,21,4,9,9,9,9,4,4,13,13,9,9,4,18,18,4,20,18,2,21,21,23,24,25,25,27,28,25,25,2}']"
      ]
     },
     "execution_count": 85,
     "metadata": {},
     "output_type": "execute_result"
    }
   ],
   "source": [
    "d[50].replace(\"\\n\", \"\").split(\"\\t\")"
   ]
  },
  {
   "cell_type": "code",
   "execution_count": null,
   "metadata": {},
   "outputs": [],
   "source": []
  },
  {
   "cell_type": "code",
   "execution_count": null,
   "metadata": {},
   "outputs": [],
   "source": []
  }
 ],
 "metadata": {
  "kernelspec": {
   "display_name": "Python 3",
   "language": "python",
   "name": "python3"
  },
  "language_info": {
   "codemirror_mode": {
    "name": "ipython",
    "version": 3
   },
   "file_extension": ".py",
   "mimetype": "text/x-python",
   "name": "python",
   "nbconvert_exporter": "python",
   "pygments_lexer": "ipython3",
   "version": "3.5.2"
  }
 },
 "nbformat": 4,
 "nbformat_minor": 2
}
